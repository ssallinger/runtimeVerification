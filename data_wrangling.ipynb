{
 "cells": [
  {
   "cell_type": "code",
   "execution_count": 76,
   "metadata": {
    "collapsed": true
   },
   "outputs": [],
   "source": [
    "import pandas as pd\n",
    "import matplotlib\n",
    "import matplotlib.pyplot as plt\n",
    "import numpy as np\n",
    "import datetime\n",
    "import json"
   ]
  },
  {
   "cell_type": "code",
   "execution_count": 77,
   "metadata": {
    "collapsed": true
   },
   "outputs": [],
   "source": [
    "import seaborn as sns\n",
    "# Use seaborn style defaults and set the default figure size\n",
    "sns.set(rc={'figure.figsize':(11, 4)})"
   ]
  },
  {
   "cell_type": "code",
   "execution_count": 78,
   "metadata": {},
   "outputs": [
    {
     "data": {
      "text/html": [
       "<div>\n",
       "<style>\n",
       "    .dataframe thead tr:only-child th {\n",
       "        text-align: right;\n",
       "    }\n",
       "\n",
       "    .dataframe thead th {\n",
       "        text-align: left;\n",
       "    }\n",
       "\n",
       "    .dataframe tbody tr th {\n",
       "        vertical-align: top;\n",
       "    }\n",
       "</style>\n",
       "<table border=\"1\" class=\"dataframe\">\n",
       "  <thead>\n",
       "    <tr style=\"text-align: right;\">\n",
       "      <th></th>\n",
       "      <th>visitStartTime</th>\n",
       "      <th>continent</th>\n",
       "      <th>country</th>\n",
       "    </tr>\n",
       "  </thead>\n",
       "  <tbody>\n",
       "    <tr>\n",
       "      <th>0</th>\n",
       "      <td>2017-07-01 07:00:05</td>\n",
       "      <td>Americas</td>\n",
       "      <td>United States</td>\n",
       "    </tr>\n",
       "    <tr>\n",
       "      <th>1</th>\n",
       "      <td>2017-07-01 07:01:53</td>\n",
       "      <td>Asia</td>\n",
       "      <td>Philippines</td>\n",
       "    </tr>\n",
       "    <tr>\n",
       "      <th>2</th>\n",
       "      <td>2017-07-01 07:02:25</td>\n",
       "      <td>Americas</td>\n",
       "      <td>United States</td>\n",
       "    </tr>\n",
       "    <tr>\n",
       "      <th>3</th>\n",
       "      <td>2017-07-01 07:02:29</td>\n",
       "      <td>Americas</td>\n",
       "      <td>United States</td>\n",
       "    </tr>\n",
       "    <tr>\n",
       "      <th>4</th>\n",
       "      <td>2017-07-01 07:02:31</td>\n",
       "      <td>Asia</td>\n",
       "      <td>Philippines</td>\n",
       "    </tr>\n",
       "  </tbody>\n",
       "</table>\n",
       "</div>"
      ],
      "text/plain": [
       "       visitStartTime continent        country\n",
       "0 2017-07-01 07:00:05  Americas  United States\n",
       "1 2017-07-01 07:01:53      Asia    Philippines\n",
       "2 2017-07-01 07:02:25  Americas  United States\n",
       "3 2017-07-01 07:02:29  Americas  United States\n",
       "4 2017-07-01 07:02:31      Asia    Philippines"
      ]
     },
     "execution_count": 78,
     "metadata": {},
     "output_type": "execute_result"
    }
   ],
   "source": [
    "data = pd.read_csv(\"data.csv\", index_col=0) \n",
    "data['visitStartTime'] = pd.to_datetime(data['visitStartTime'],unit='s')\n",
    "data.head()"
   ]
  },
  {
   "cell_type": "code",
   "execution_count": 79,
   "metadata": {},
   "outputs": [
    {
     "data": {
      "text/plain": [
       "(71812, 3)"
      ]
     },
     "execution_count": 79,
     "metadata": {},
     "output_type": "execute_result"
    }
   ],
   "source": [
    "data.shape"
   ]
  },
  {
   "cell_type": "code",
   "execution_count": 80,
   "metadata": {},
   "outputs": [
    {
     "data": {
      "image/png": "[encoded data removed]",
      "text/plain": [
       "<matplotlib.figure.Figure at 0x7ff1bbbc60f0>"
      ]
     },
     "metadata": {},
     "output_type": "display_data"
    }
   ],
   "source": [
    "plt.plot(data['visitStartTime'])\n",
    "plt.show()"
   ]
  },
  {
   "cell_type": "code",
   "execution_count": 81,
   "metadata": {},
   "outputs": [
    {
     "data": {
      "text/html": [
       "<div>\n",
       "<style>\n",
       "    .dataframe thead tr:only-child th {\n",
       "        text-align: right;\n",
       "    }\n",
       "\n",
       "    .dataframe thead th {\n",
       "        text-align: left;\n",
       "    }\n",
       "\n",
       "    .dataframe tbody tr th {\n",
       "        vertical-align: top;\n",
       "    }\n",
       "</style>\n",
       "<table border=\"1\" class=\"dataframe\">\n",
       "  <thead>\n",
       "    <tr style=\"text-align: right;\">\n",
       "      <th></th>\n",
       "      <th>visitStartTime</th>\n",
       "      <th>continent</th>\n",
       "      <th>country</th>\n",
       "      <th>date</th>\n",
       "      <th>hour</th>\n",
       "      <th>datehour</th>\n",
       "      <th>minute</th>\n",
       "    </tr>\n",
       "  </thead>\n",
       "  <tbody>\n",
       "    <tr>\n",
       "      <th>0</th>\n",
       "      <td>2017-07-01 07:00:05</td>\n",
       "      <td>Americas</td>\n",
       "      <td>United States</td>\n",
       "      <td>2017-07-01</td>\n",
       "      <td>7</td>\n",
       "      <td>2017-07-01 07:00:00</td>\n",
       "      <td>2017-07-01 07:00:00</td>\n",
       "    </tr>\n",
       "    <tr>\n",
       "      <th>1</th>\n",
       "      <td>2017-07-01 07:01:53</td>\n",
       "      <td>Asia</td>\n",
       "      <td>Philippines</td>\n",
       "      <td>2017-07-01</td>\n",
       "      <td>7</td>\n",
       "      <td>2017-07-01 07:00:00</td>\n",
       "      <td>2017-07-01 07:01:00</td>\n",
       "    </tr>\n",
       "    <tr>\n",
       "      <th>2</th>\n",
       "      <td>2017-07-01 07:02:25</td>\n",
       "      <td>Americas</td>\n",
       "      <td>United States</td>\n",
       "      <td>2017-07-01</td>\n",
       "      <td>7</td>\n",
       "      <td>2017-07-01 07:00:00</td>\n",
       "      <td>2017-07-01 07:02:00</td>\n",
       "    </tr>\n",
       "    <tr>\n",
       "      <th>3</th>\n",
       "      <td>2017-07-01 07:02:29</td>\n",
       "      <td>Americas</td>\n",
       "      <td>United States</td>\n",
       "      <td>2017-07-01</td>\n",
       "      <td>7</td>\n",
       "      <td>2017-07-01 07:00:00</td>\n",
       "      <td>2017-07-01 07:02:00</td>\n",
       "    </tr>\n",
       "    <tr>\n",
       "      <th>4</th>\n",
       "      <td>2017-07-01 07:02:31</td>\n",
       "      <td>Asia</td>\n",
       "      <td>Philippines</td>\n",
       "      <td>2017-07-01</td>\n",
       "      <td>7</td>\n",
       "      <td>2017-07-01 07:00:00</td>\n",
       "      <td>2017-07-01 07:02:00</td>\n",
       "    </tr>\n",
       "  </tbody>\n",
       "</table>\n",
       "</div>"
      ],
      "text/plain": [
       "       visitStartTime continent        country        date  hour  \\\n",
       "0 2017-07-01 07:00:05  Americas  United States  2017-07-01     7   \n",
       "1 2017-07-01 07:01:53      Asia    Philippines  2017-07-01     7   \n",
       "2 2017-07-01 07:02:25  Americas  United States  2017-07-01     7   \n",
       "3 2017-07-01 07:02:29  Americas  United States  2017-07-01     7   \n",
       "4 2017-07-01 07:02:31      Asia    Philippines  2017-07-01     7   \n",
       "\n",
       "             datehour              minute  \n",
       "0 2017-07-01 07:00:00 2017-07-01 07:00:00  \n",
       "1 2017-07-01 07:00:00 2017-07-01 07:01:00  \n",
       "2 2017-07-01 07:00:00 2017-07-01 07:02:00  \n",
       "3 2017-07-01 07:00:00 2017-07-01 07:02:00  \n",
       "4 2017-07-01 07:00:00 2017-07-01 07:02:00  "
      ]
     },
     "execution_count": 81,
     "metadata": {},
     "output_type": "execute_result"
    }
   ],
   "source": [
    "data['date'] =  data['visitStartTime'].apply(lambda x: pd.Timestamp.to_pydatetime(x).date())\n",
    "data['hour'] =  data['visitStartTime'].apply(lambda x: pd.Timestamp.to_pydatetime(x).hour)\n",
    "data['datehour'] =  data['visitStartTime'].apply(lambda x: pd.Timestamp.to_pydatetime(x).replace(minute=0, second=0))\n",
    "data['minute'] =  data['visitStartTime'].apply(lambda x: pd.Timestamp.to_pydatetime(x).replace(second=0))\n",
    "\n",
    "data.head()"
   ]
  },
  {
   "cell_type": "code",
   "execution_count": 82,
   "metadata": {},
   "outputs": [
    {
     "data": {
      "text/plain": [
       "(1955, 7)"
      ]
     },
     "execution_count": 82,
     "metadata": {},
     "output_type": "execute_result"
    }
   ],
   "source": [
    "first = data[data['visitStartTime'].apply(lambda x: pd.Timestamp.to_pydatetime(x).date()) == datetime.date(2017, 7, 2)]\n",
    "first.shape"
   ]
  },
  {
   "cell_type": "code",
   "execution_count": 84,
   "metadata": {},
   "outputs": [
    {
     "data": {
      "text/html": [
       "<div>\n",
       "<style>\n",
       "    .dataframe thead tr:only-child th {\n",
       "        text-align: right;\n",
       "    }\n",
       "\n",
       "    .dataframe thead th {\n",
       "        text-align: left;\n",
       "    }\n",
       "\n",
       "    .dataframe tbody tr th {\n",
       "        vertical-align: top;\n",
       "    }\n",
       "</style>\n",
       "<table border=\"1\" class=\"dataframe\">\n",
       "  <thead>\n",
       "    <tr style=\"text-align: right;\">\n",
       "      <th></th>\n",
       "      <th>visitStartTime</th>\n",
       "      <th>continent</th>\n",
       "      <th>country</th>\n",
       "      <th>date</th>\n",
       "      <th>hour</th>\n",
       "      <th>datehour</th>\n",
       "      <th>minute</th>\n",
       "    </tr>\n",
       "  </thead>\n",
       "  <tbody>\n",
       "    <tr>\n",
       "      <th>1497</th>\n",
       "      <td>2017-07-02 00:00:03</td>\n",
       "      <td>Oceania</td>\n",
       "      <td>New Zealand</td>\n",
       "      <td>2017-07-02</td>\n",
       "      <td>0</td>\n",
       "      <td>2017-07-02</td>\n",
       "      <td>2017-07-02 00:00:00</td>\n",
       "    </tr>\n",
       "    <tr>\n",
       "      <th>1498</th>\n",
       "      <td>2017-07-02 00:01:00</td>\n",
       "      <td>Americas</td>\n",
       "      <td>Canada</td>\n",
       "      <td>2017-07-02</td>\n",
       "      <td>0</td>\n",
       "      <td>2017-07-02</td>\n",
       "      <td>2017-07-02 00:01:00</td>\n",
       "    </tr>\n",
       "    <tr>\n",
       "      <th>1499</th>\n",
       "      <td>2017-07-02 00:01:37</td>\n",
       "      <td>Americas</td>\n",
       "      <td>United States</td>\n",
       "      <td>2017-07-02</td>\n",
       "      <td>0</td>\n",
       "      <td>2017-07-02</td>\n",
       "      <td>2017-07-02 00:01:00</td>\n",
       "    </tr>\n",
       "    <tr>\n",
       "      <th>1500</th>\n",
       "      <td>2017-07-02 00:01:57</td>\n",
       "      <td>Europe</td>\n",
       "      <td>United Kingdom</td>\n",
       "      <td>2017-07-02</td>\n",
       "      <td>0</td>\n",
       "      <td>2017-07-02</td>\n",
       "      <td>2017-07-02 00:01:00</td>\n",
       "    </tr>\n",
       "    <tr>\n",
       "      <th>1501</th>\n",
       "      <td>2017-07-02 00:03:02</td>\n",
       "      <td>Oceania</td>\n",
       "      <td>Australia</td>\n",
       "      <td>2017-07-02</td>\n",
       "      <td>0</td>\n",
       "      <td>2017-07-02</td>\n",
       "      <td>2017-07-02 00:03:00</td>\n",
       "    </tr>\n",
       "  </tbody>\n",
       "</table>\n",
       "</div>"
      ],
      "text/plain": [
       "          visitStartTime continent         country        date  hour  \\\n",
       "1497 2017-07-02 00:00:03   Oceania     New Zealand  2017-07-02     0   \n",
       "1498 2017-07-02 00:01:00  Americas          Canada  2017-07-02     0   \n",
       "1499 2017-07-02 00:01:37  Americas   United States  2017-07-02     0   \n",
       "1500 2017-07-02 00:01:57    Europe  United Kingdom  2017-07-02     0   \n",
       "1501 2017-07-02 00:03:02   Oceania       Australia  2017-07-02     0   \n",
       "\n",
       "       datehour              minute  \n",
       "1497 2017-07-02 2017-07-02 00:00:00  \n",
       "1498 2017-07-02 2017-07-02 00:01:00  \n",
       "1499 2017-07-02 2017-07-02 00:01:00  \n",
       "1500 2017-07-02 2017-07-02 00:01:00  \n",
       "1501 2017-07-02 2017-07-02 00:03:00  "
      ]
     },
     "execution_count": 84,
     "metadata": {},
     "output_type": "execute_result"
    }
   ],
   "source": [
    "first.head()"
   ]
  },
  {
   "cell_type": "code",
   "execution_count": null,
   "metadata": {
    "collapsed": true
   },
   "outputs": [],
   "source": []
  },
  {
   "cell_type": "code",
   "execution_count": 83,
   "metadata": {},
   "outputs": [
    {
     "data": {
      "image/png": "[encoded data removed]",
      "text/plain": [
       "<matplotlib.figure.Figure at 0x7ff1bbb8de10>"
      ]
     },
     "metadata": {},
     "output_type": "display_data"
    }
   ],
   "source": [
    "plt.plot(first['visitStartTime'])\n",
    "plt.show()"
   ]
  },
  {
   "cell_type": "code",
   "execution_count": null,
   "metadata": {},
   "outputs": [],
   "source": [
    "first_eu = first[first['continent'] == 'Europe']\n",
    "first_eu.head()"
   ]
  },
  {
   "cell_type": "code",
   "execution_count": null,
   "metadata": {},
   "outputs": [],
   "source": [
    "plt.plot(first_eu['visitStartTime'])\n",
    "plt.show()"
   ]
  },
  {
   "cell_type": "code",
   "execution_count": 218,
   "metadata": {},
   "outputs": [
    {
     "data": {
      "image/png": "[encoded data removed]",
      "text/plain": [
       "<matplotlib.figure.Figure at 0x7ff1bc75c278>"
      ]
     },
     "metadata": {},
     "output_type": "display_data"
    }
   ],
   "source": [
    "plt.plot(first.groupby('minute').count()['visitStartTime'])\n",
    "plt.show()"
   ]
  },
  {
   "cell_type": "code",
   "execution_count": 219,
   "metadata": {},
   "outputs": [
    {
     "data": {
      "text/plain": [
       "count    1062.000000\n",
       "mean        1.840866\n",
       "std         1.016409\n",
       "min         1.000000\n",
       "25%         1.000000\n",
       "50%         2.000000\n",
       "75%         2.000000\n",
       "max         7.000000\n",
       "Name: visitStartTime, dtype: float64"
      ]
     },
     "execution_count": 219,
     "metadata": {},
     "output_type": "execute_result"
    }
   ],
   "source": [
    "first_scaled = first.groupby('minute').count()['visitStartTime']\n",
    "first_scaled.describe()"
   ]
  },
  {
   "cell_type": "code",
   "execution_count": null,
   "metadata": {
    "collapsed": true
   },
   "outputs": [],
   "source": []
  },
  {
   "cell_type": "code",
   "execution_count": 220,
   "metadata": {
    "collapsed": true
   },
   "outputs": [],
   "source": [
    "first_scaled.to_csv('load_realtime.csv', index=False)"
   ]
  },
  {
   "cell_type": "code",
   "execution_count": 221,
   "metadata": {
    "collapsed": true
   },
   "outputs": [],
   "source": [
    "ts = data.groupby(['datehour', 'date', 'hour']).count()['visitStartTime']"
   ]
  },
  {
   "cell_type": "code",
   "execution_count": 222,
   "metadata": {},
   "outputs": [
    {
     "data": {
      "text/plain": [
       "datehour             date        hour\n",
       "2017-07-01 07:00:00  2017-07-01  7       73\n",
       "2017-07-01 08:00:00  2017-07-01  8       59\n",
       "2017-07-01 09:00:00  2017-07-01  9       70\n",
       "2017-07-01 10:00:00  2017-07-01  10      73\n",
       "2017-07-01 11:00:00  2017-07-01  11      67\n",
       "Name: visitStartTime, dtype: int64"
      ]
     },
     "execution_count": 222,
     "metadata": {},
     "output_type": "execute_result"
    }
   ],
   "source": [
    "ts.head()"
   ]
  },
  {
   "cell_type": "code",
   "execution_count": 223,
   "metadata": {},
   "outputs": [
    {
     "data": {
      "text/plain": [
       "(744,)"
      ]
     },
     "execution_count": 223,
     "metadata": {},
     "output_type": "execute_result"
    }
   ],
   "source": [
    "ts.shape"
   ]
  },
  {
   "cell_type": "code",
   "execution_count": 224,
   "metadata": {},
   "outputs": [
    {
     "data": {
      "image/png": "[encoded data removed]",
      "text/plain": [
       "<matplotlib.figure.Figure at 0x7ff1d74e7eb8>"
      ]
     },
     "metadata": {},
     "output_type": "display_data"
    }
   ],
   "source": [
    "ts.plot(figsize=(10,10))\n",
    "plt.show()"
   ]
  },
  {
   "cell_type": "code",
   "execution_count": null,
   "metadata": {},
   "outputs": [],
   "source": [
    "pd.plotting.autocorrelation_plot(ts)\n",
    "plt.show()"
   ]
  },
  {
   "cell_type": "code",
   "execution_count": null,
   "metadata": {
    "collapsed": true
   },
   "outputs": [],
   "source": [
    "#sns.boxplot(data=pd.DataFrame(ts), x='hour')"
   ]
  },
  {
   "cell_type": "code",
   "execution_count": null,
   "metadata": {
    "collapsed": true
   },
   "outputs": [],
   "source": []
  },
  {
   "cell_type": "code",
   "execution_count": null,
   "metadata": {},
   "outputs": [],
   "source": [
    "pd.DataFrame(ts)"
   ]
  },
  {
   "cell_type": "code",
   "execution_count": null,
   "metadata": {},
   "outputs": [],
   "source": [
    "ts.describe()"
   ]
  },
  {
   "cell_type": "code",
   "execution_count": null,
   "metadata": {
    "collapsed": true
   },
   "outputs": [],
   "source": [
    "ts_scaled = ts//20"
   ]
  },
  {
   "cell_type": "code",
   "execution_count": null,
   "metadata": {},
   "outputs": [],
   "source": [
    "ts_scaled.head()"
   ]
  },
  {
   "cell_type": "code",
   "execution_count": null,
   "metadata": {},
   "outputs": [],
   "source": [
    "ts_scaled.describe()"
   ]
  },
  {
   "cell_type": "code",
   "execution_count": null,
   "metadata": {},
   "outputs": [],
   "source": [
    "ts_scaled.plot(figsize=(10,10))\n",
    "plt.show()"
   ]
  },
  {
   "cell_type": "code",
   "execution_count": null,
   "metadata": {
    "collapsed": true
   },
   "outputs": [],
   "source": [
    "#ts_scaled.to_csv('load_full.csv', index=False)"
   ]
  },
  {
   "cell_type": "markdown",
   "metadata": {},
   "source": [
    "# Events -> Trace"
   ]
  },
  {
   "cell_type": "code",
   "execution_count": 14,
   "metadata": {},
   "outputs": [
    {
     "name": "stdout",
     "output_type": "stream",
     "text": [
      "trace:\n"
     ]
    },
    {
     "data": {
      "text/html": [
       "<div>\n",
       "<style>\n",
       "    .dataframe thead tr:only-child th {\n",
       "        text-align: right;\n",
       "    }\n",
       "\n",
       "    .dataframe thead th {\n",
       "        text-align: left;\n",
       "    }\n",
       "\n",
       "    .dataframe tbody tr th {\n",
       "        vertical-align: top;\n",
       "    }\n",
       "</style>\n",
       "<table border=\"1\" class=\"dataframe\">\n",
       "  <thead>\n",
       "    <tr style=\"text-align: right;\">\n",
       "      <th></th>\n",
       "      <th>time</th>\n",
       "      <th>name</th>\n",
       "      <th>podType</th>\n",
       "      <th>event</th>\n",
       "    </tr>\n",
       "  </thead>\n",
       "  <tbody>\n",
       "    <tr>\n",
       "      <th>ba2ad388-374d-44f6-9a1b-961f0ea60200</th>\n",
       "      <td>2020-09-26 14:16:01</td>\n",
       "      <td>loadgenerator-79bff5bd57-lf2r8.16385b08d89b2303</td>\n",
       "      <td>loadgenerator</td>\n",
       "      <td>Created</td>\n",
       "    </tr>\n",
       "    <tr>\n",
       "      <th>f30e145a-c883-4c06-881b-f1d6674d6219</th>\n",
       "      <td>2020-09-26 14:16:01</td>\n",
       "      <td>loadgenerator-79bff5bd57-5vstf.16385b08d8a3dbed</td>\n",
       "      <td>loadgenerator</td>\n",
       "      <td>Created</td>\n",
       "    </tr>\n",
       "    <tr>\n",
       "      <th>308d1ed1-4ce1-4b1e-812f-5f57c0fa6006</th>\n",
       "      <td>2020-09-26 14:17:00</td>\n",
       "      <td>loadgenerator-79bff5bd57-5vstf.16385b16ae01aebb</td>\n",
       "      <td>loadgenerator</td>\n",
       "      <td>Killing</td>\n",
       "    </tr>\n",
       "    <tr>\n",
       "      <th>3f9eedcd-fc67-43c2-b0f2-ab09c2c63e3d</th>\n",
       "      <td>2020-09-26 14:17:17</td>\n",
       "      <td>frontend-5fcb8cdcdc-zbpr7.16385b1a8a38d1c1</td>\n",
       "      <td>frontend</td>\n",
       "      <td>Created</td>\n",
       "    </tr>\n",
       "    <tr>\n",
       "      <th>96746f22-a337-4986-a062-7ca3cfa45d42</th>\n",
       "      <td>2020-09-26 14:18:01</td>\n",
       "      <td>loadgenerator-79bff5bd57-2ld9p.16385b24df9cd32b</td>\n",
       "      <td>loadgenerator</td>\n",
       "      <td>Created</td>\n",
       "    </tr>\n",
       "    <tr>\n",
       "      <th>1c46cef9-bbb0-4f0f-990a-d82ba870c5ce</th>\n",
       "      <td>2020-09-26 14:20:19</td>\n",
       "      <td>frontend-5fcb8cdcdc-n2g46.16385b44f3d60e66</td>\n",
       "      <td>frontend</td>\n",
       "      <td>Created</td>\n",
       "    </tr>\n",
       "    <tr>\n",
       "      <th>706c7d4f-76c5-4834-8183-8b460594eda9</th>\n",
       "      <td>2020-09-26 14:21:01</td>\n",
       "      <td>loadgenerator-79bff5bd57-2ld9p.16385b4eaf3f2314</td>\n",
       "      <td>loadgenerator</td>\n",
       "      <td>Killing</td>\n",
       "    </tr>\n",
       "    <tr>\n",
       "      <th>e290b151-d0ca-4b7c-87c5-528157543578</th>\n",
       "      <td>2020-09-26 14:22:02</td>\n",
       "      <td>loadgenerator-79bff5bd57-crpds.16385b5ce5dd590d</td>\n",
       "      <td>loadgenerator</td>\n",
       "      <td>Created</td>\n",
       "    </tr>\n",
       "    <tr>\n",
       "      <th>06fa4048-342f-4fa2-af4a-ae5d954d5ebe</th>\n",
       "      <td>2020-09-26 14:22:02</td>\n",
       "      <td>loadgenerator-79bff5bd57-j98kt.16385b5ce5791463</td>\n",
       "      <td>loadgenerator</td>\n",
       "      <td>Created</td>\n",
       "    </tr>\n",
       "    <tr>\n",
       "      <th>9ad8edb2-cee0-4027-821c-fdc461e9aa04</th>\n",
       "      <td>2020-09-26 14:23:01</td>\n",
       "      <td>loadgenerator-79bff5bd57-crpds.16385b6ab373c591</td>\n",
       "      <td>loadgenerator</td>\n",
       "      <td>Killing</td>\n",
       "    </tr>\n",
       "    <tr>\n",
       "      <th>6a1b46fa-0554-47de-8c7d-d0a44ae49782</th>\n",
       "      <td>2020-09-26 14:24:02</td>\n",
       "      <td>loadgenerator-79bff5bd57-ndsdq.16385b78d9aebf28</td>\n",
       "      <td>loadgenerator</td>\n",
       "      <td>Created</td>\n",
       "    </tr>\n",
       "    <tr>\n",
       "      <th>6417435a-ec32-46ce-9f15-a5a8c2c4baaa</th>\n",
       "      <td>2020-09-26 14:28:01</td>\n",
       "      <td>loadgenerator-79bff5bd57-ndsdq.16385bb0b0bbc6a9</td>\n",
       "      <td>loadgenerator</td>\n",
       "      <td>Killing</td>\n",
       "    </tr>\n",
       "    <tr>\n",
       "      <th>a75cb90a-84c6-470d-9140-169ee949d7d0</th>\n",
       "      <td>2020-09-26 14:29:02</td>\n",
       "      <td>loadgenerator-79bff5bd57-bhbgc.16385bbee6676484</td>\n",
       "      <td>loadgenerator</td>\n",
       "      <td>Created</td>\n",
       "    </tr>\n",
       "    <tr>\n",
       "      <th>2f9d88f8-f970-4237-8367-b96066ed7f3e</th>\n",
       "      <td>2020-09-26 14:29:03</td>\n",
       "      <td>loadgenerator-79bff5bd57-ccz4l.16385bbef252dfed</td>\n",
       "      <td>loadgenerator</td>\n",
       "      <td>Created</td>\n",
       "    </tr>\n",
       "    <tr>\n",
       "      <th>57dfcf5b-ccb3-4814-997e-438290b3fc8e</th>\n",
       "      <td>2020-09-26 14:29:03</td>\n",
       "      <td>loadgenerator-79bff5bd57-ltz2q.16385bbeece90a87</td>\n",
       "      <td>loadgenerator</td>\n",
       "      <td>Created</td>\n",
       "    </tr>\n",
       "  </tbody>\n",
       "</table>\n",
       "</div>"
      ],
      "text/plain": [
       "                                                    time  \\\n",
       "ba2ad388-374d-44f6-9a1b-961f0ea60200 2020-09-26 14:16:01   \n",
       "f30e145a-c883-4c06-881b-f1d6674d6219 2020-09-26 14:16:01   \n",
       "308d1ed1-4ce1-4b1e-812f-5f57c0fa6006 2020-09-26 14:17:00   \n",
       "3f9eedcd-fc67-43c2-b0f2-ab09c2c63e3d 2020-09-26 14:17:17   \n",
       "96746f22-a337-4986-a062-7ca3cfa45d42 2020-09-26 14:18:01   \n",
       "1c46cef9-bbb0-4f0f-990a-d82ba870c5ce 2020-09-26 14:20:19   \n",
       "706c7d4f-76c5-4834-8183-8b460594eda9 2020-09-26 14:21:01   \n",
       "e290b151-d0ca-4b7c-87c5-528157543578 2020-09-26 14:22:02   \n",
       "06fa4048-342f-4fa2-af4a-ae5d954d5ebe 2020-09-26 14:22:02   \n",
       "9ad8edb2-cee0-4027-821c-fdc461e9aa04 2020-09-26 14:23:01   \n",
       "6a1b46fa-0554-47de-8c7d-d0a44ae49782 2020-09-26 14:24:02   \n",
       "6417435a-ec32-46ce-9f15-a5a8c2c4baaa 2020-09-26 14:28:01   \n",
       "a75cb90a-84c6-470d-9140-169ee949d7d0 2020-09-26 14:29:02   \n",
       "2f9d88f8-f970-4237-8367-b96066ed7f3e 2020-09-26 14:29:03   \n",
       "57dfcf5b-ccb3-4814-997e-438290b3fc8e 2020-09-26 14:29:03   \n",
       "\n",
       "                                                                                 name  \\\n",
       "ba2ad388-374d-44f6-9a1b-961f0ea60200  loadgenerator-79bff5bd57-lf2r8.16385b08d89b2303   \n",
       "f30e145a-c883-4c06-881b-f1d6674d6219  loadgenerator-79bff5bd57-5vstf.16385b08d8a3dbed   \n",
       "308d1ed1-4ce1-4b1e-812f-5f57c0fa6006  loadgenerator-79bff5bd57-5vstf.16385b16ae01aebb   \n",
       "3f9eedcd-fc67-43c2-b0f2-ab09c2c63e3d       frontend-5fcb8cdcdc-zbpr7.16385b1a8a38d1c1   \n",
       "96746f22-a337-4986-a062-7ca3cfa45d42  loadgenerator-79bff5bd57-2ld9p.16385b24df9cd32b   \n",
       "1c46cef9-bbb0-4f0f-990a-d82ba870c5ce       frontend-5fcb8cdcdc-n2g46.16385b44f3d60e66   \n",
       "706c7d4f-76c5-4834-8183-8b460594eda9  loadgenerator-79bff5bd57-2ld9p.16385b4eaf3f2314   \n",
       "e290b151-d0ca-4b7c-87c5-528157543578  loadgenerator-79bff5bd57-crpds.16385b5ce5dd590d   \n",
       "06fa4048-342f-4fa2-af4a-ae5d954d5ebe  loadgenerator-79bff5bd57-j98kt.16385b5ce5791463   \n",
       "9ad8edb2-cee0-4027-821c-fdc461e9aa04  loadgenerator-79bff5bd57-crpds.16385b6ab373c591   \n",
       "6a1b46fa-0554-47de-8c7d-d0a44ae49782  loadgenerator-79bff5bd57-ndsdq.16385b78d9aebf28   \n",
       "6417435a-ec32-46ce-9f15-a5a8c2c4baaa  loadgenerator-79bff5bd57-ndsdq.16385bb0b0bbc6a9   \n",
       "a75cb90a-84c6-470d-9140-169ee949d7d0  loadgenerator-79bff5bd57-bhbgc.16385bbee6676484   \n",
       "2f9d88f8-f970-4237-8367-b96066ed7f3e  loadgenerator-79bff5bd57-ccz4l.16385bbef252dfed   \n",
       "57dfcf5b-ccb3-4814-997e-438290b3fc8e  loadgenerator-79bff5bd57-ltz2q.16385bbeece90a87   \n",
       "\n",
       "                                            podType    event  \n",
       "ba2ad388-374d-44f6-9a1b-961f0ea60200  loadgenerator  Created  \n",
       "f30e145a-c883-4c06-881b-f1d6674d6219  loadgenerator  Created  \n",
       "308d1ed1-4ce1-4b1e-812f-5f57c0fa6006  loadgenerator  Killing  \n",
       "3f9eedcd-fc67-43c2-b0f2-ab09c2c63e3d       frontend  Created  \n",
       "96746f22-a337-4986-a062-7ca3cfa45d42  loadgenerator  Created  \n",
       "1c46cef9-bbb0-4f0f-990a-d82ba870c5ce       frontend  Created  \n",
       "706c7d4f-76c5-4834-8183-8b460594eda9  loadgenerator  Killing  \n",
       "e290b151-d0ca-4b7c-87c5-528157543578  loadgenerator  Created  \n",
       "06fa4048-342f-4fa2-af4a-ae5d954d5ebe  loadgenerator  Created  \n",
       "9ad8edb2-cee0-4027-821c-fdc461e9aa04  loadgenerator  Killing  \n",
       "6a1b46fa-0554-47de-8c7d-d0a44ae49782  loadgenerator  Created  \n",
       "6417435a-ec32-46ce-9f15-a5a8c2c4baaa  loadgenerator  Killing  \n",
       "a75cb90a-84c6-470d-9140-169ee949d7d0  loadgenerator  Created  \n",
       "2f9d88f8-f970-4237-8367-b96066ed7f3e  loadgenerator  Created  \n",
       "57dfcf5b-ccb3-4814-997e-438290b3fc8e  loadgenerator  Created  "
      ]
     },
     "execution_count": 14,
     "metadata": {},
     "output_type": "execute_result"
    }
   ],
   "source": [
    "trace_dict = {}\n",
    "\n",
    "for i in range(1, 31):\n",
    "    with open('data/eventspart' + str(i) + '.txt') as events_file:\n",
    "        events = json.load(events_file)\n",
    "        for e in events['items']:\n",
    "            if(e['reason']=='Created' or e['reason']=='Killing'):\n",
    "                time = datetime.datetime.strptime(e['firstTimestamp'], \"%Y-%m-%dT%H:%M:%SZ\")\n",
    "                trace_dict[e['metadata']['uid']] = [time, e['metadata']['name'], e['metadata']['name'].partition('-')[0], e['reason']]\n",
    "\n",
    "            \n",
    "trace = pd.DataFrame.from_dict(trace_dict, orient='index')\n",
    "trace.columns = ['time', 'name', 'podType', 'event']\n",
    "\n",
    "#truncate parts before and after simulation\n",
    "trace = trace[trace['time'] > datetime.datetime(2020, 9, 26, 14, 15)]\n",
    "trace = trace[trace['time'] < datetime.datetime(2020, 9, 27, 3, 0)]\n",
    "\n",
    "trace.sort_values(by=['time'], inplace=True)\n",
    "print('trace:')\n",
    "trace.head(15)"
   ]
  },
  {
   "cell_type": "code",
   "execution_count": 15,
   "metadata": {},
   "outputs": [
    {
     "data": {
      "text/plain": [
       "(677, 4)"
      ]
     },
     "execution_count": 15,
     "metadata": {},
     "output_type": "execute_result"
    }
   ],
   "source": [
    "trace.shape"
   ]
  },
  {
   "cell_type": "code",
   "execution_count": 16,
   "metadata": {
    "collapsed": true
   },
   "outputs": [],
   "source": [
    "def buildMatrix(trace_p):\n",
    "    matrix = pd.DataFrame(columns = ['time', 'nrLoadgenerators', 'nrFrontends'])\n",
    "    stepSize = datetime.timedelta(seconds=60)\n",
    "    # sort trace by time\n",
    "    trace_p.sort_values(by=['time'], inplace=True)\n",
    "    # assumption: starting from 0,0 config\n",
    "    # first row: all 0, then increment gradually \n",
    "    firstTs = trace_p['time'].iloc[0]\n",
    "    lastTs = trace_p['time'].iloc[-1]\n",
    "    \n",
    "    currentTime = firstTs - stepSize\n",
    "    print('start:')\n",
    "    print(currentTime)\n",
    "    nrFrontends = 1\n",
    "    nrLoadgenerators = 1\n",
    "    matrix = matrix.append(pd.Series([currentTime, nrLoadgenerators, nrFrontends], index=matrix.columns), ignore_index=True)\n",
    "    idx = 0\n",
    "\n",
    "\n",
    "    # walk over trace + evaluate change at every step\n",
    "    while(currentTime <= lastTs + stepSize):\n",
    "        while(idx < len(trace_p) and trace_p['time'].iloc[idx] <= currentTime):\n",
    "            if(trace_p['podType'].iloc[idx] == 'frontend' and trace_p['event'].iloc[idx] == 'Killing'):\n",
    "                nrFrontends = nrFrontends - 1\n",
    "            if(trace_p['podType'].iloc[idx] == 'frontend' and trace_p['event'].iloc[idx] == 'Created'):\n",
    "                nrFrontends = nrFrontends + 1\n",
    "            if(trace_p['podType'].iloc[idx] == 'loadgenerator' and trace_p['event'].iloc[idx] == 'Killing'):\n",
    "                nrLoadgenerators = nrLoadgenerators - 1\n",
    "            if(trace_p['podType'].iloc[idx] == 'loadgenerator' and trace_p['event'].iloc[idx] == 'Created'):\n",
    "                nrLoadgenerators = nrLoadgenerators + 1\n",
    "            idx = idx + 1\n",
    "        \n",
    "        currentTime = currentTime + stepSize\n",
    "        matrix = matrix.append(pd.Series([currentTime, nrLoadgenerators, nrFrontends], index=matrix.columns), ignore_index=True)\n",
    "\n",
    "    print(\"matrix:\")\n",
    "    return matrix\n",
    "    #matrix.to_csv('matrix.csv')\n"
   ]
  },
  {
   "cell_type": "code",
   "execution_count": 17,
   "metadata": {},
   "outputs": [
    {
     "name": "stdout",
     "output_type": "stream",
     "text": [
      "start:\n",
      "2020-09-26 14:15:01\n",
      "matrix:\n"
     ]
    },
    {
     "data": {
      "text/html": [
       "<div>\n",
       "<style>\n",
       "    .dataframe thead tr:only-child th {\n",
       "        text-align: right;\n",
       "    }\n",
       "\n",
       "    .dataframe thead th {\n",
       "        text-align: left;\n",
       "    }\n",
       "\n",
       "    .dataframe tbody tr th {\n",
       "        vertical-align: top;\n",
       "    }\n",
       "</style>\n",
       "<table border=\"1\" class=\"dataframe\">\n",
       "  <thead>\n",
       "    <tr style=\"text-align: right;\">\n",
       "      <th></th>\n",
       "      <th>time</th>\n",
       "      <th>nrLoadgenerators</th>\n",
       "      <th>nrFrontends</th>\n",
       "    </tr>\n",
       "  </thead>\n",
       "  <tbody>\n",
       "    <tr>\n",
       "      <th>0</th>\n",
       "      <td>2020-09-26 14:15:01</td>\n",
       "      <td>1</td>\n",
       "      <td>1</td>\n",
       "    </tr>\n",
       "    <tr>\n",
       "      <th>1</th>\n",
       "      <td>2020-09-26 14:16:01</td>\n",
       "      <td>1</td>\n",
       "      <td>1</td>\n",
       "    </tr>\n",
       "    <tr>\n",
       "      <th>2</th>\n",
       "      <td>2020-09-26 14:17:01</td>\n",
       "      <td>3</td>\n",
       "      <td>1</td>\n",
       "    </tr>\n",
       "    <tr>\n",
       "      <th>3</th>\n",
       "      <td>2020-09-26 14:18:01</td>\n",
       "      <td>2</td>\n",
       "      <td>1</td>\n",
       "    </tr>\n",
       "    <tr>\n",
       "      <th>4</th>\n",
       "      <td>2020-09-26 14:19:01</td>\n",
       "      <td>3</td>\n",
       "      <td>2</td>\n",
       "    </tr>\n",
       "  </tbody>\n",
       "</table>\n",
       "</div>"
      ],
      "text/plain": [
       "                 time nrLoadgenerators nrFrontends\n",
       "0 2020-09-26 14:15:01                1           1\n",
       "1 2020-09-26 14:16:01                1           1\n",
       "2 2020-09-26 14:17:01                3           1\n",
       "3 2020-09-26 14:18:01                2           1\n",
       "4 2020-09-26 14:19:01                3           2"
      ]
     },
     "execution_count": 17,
     "metadata": {},
     "output_type": "execute_result"
    }
   ],
   "source": [
    "matrix = buildMatrix(trace)\n",
    "\n",
    "matrix.head()"
   ]
  },
  {
   "cell_type": "code",
   "execution_count": 18,
   "metadata": {},
   "outputs": [
    {
     "data": {
      "image/png": "[encoded data removed]",
      "text/plain": [
       "<matplotlib.figure.Figure at 0x7ff1d75d4898>"
      ]
     },
     "metadata": {},
     "output_type": "display_data"
    }
   ],
   "source": [
    "matrix.plot(x='time', y=['nrLoadgenerators', 'nrFrontends'], figsize=(10,5), grid=True)\n",
    "plt.show()"
   ]
  },
  {
   "cell_type": "code",
   "execution_count": 31,
   "metadata": {},
   "outputs": [
    {
     "data": {
      "text/plain": [
       "0.54469868986749237"
      ]
     },
     "execution_count": 31,
     "metadata": {},
     "output_type": "execute_result"
    }
   ],
   "source": [
    "matrix['nrFrontends'] = matrix['nrFrontends'].astype(float)\n",
    "matrix['nrLoadgenerators'] = matrix['nrLoadgenerators'].astype(float)\n",
    "\n",
    "column_1 = matrix[\"nrFrontends\"]\n",
    "\n",
    "column_2 = matrix[\"nrLoadgenerators\"]\n",
    "\n",
    "correlation = column_1.corr(column_2, method='spearman')\n",
    "correlation"
   ]
  },
  {
   "cell_type": "code",
   "execution_count": 20,
   "metadata": {},
   "outputs": [
    {
     "data": {
      "text/plain": [
       "time                datetime64[ns]\n",
       "nrLoadgenerators             int64\n",
       "nrFrontends                  int64\n",
       "dtype: object"
      ]
     },
     "execution_count": 20,
     "metadata": {},
     "output_type": "execute_result"
    }
   ],
   "source": [
    "matrix.dtypes"
   ]
  },
  {
   "cell_type": "code",
   "execution_count": 21,
   "metadata": {},
   "outputs": [
    {
     "data": {
      "text/html": [
       "<div>\n",
       "<style>\n",
       "    .dataframe thead tr:only-child th {\n",
       "        text-align: right;\n",
       "    }\n",
       "\n",
       "    .dataframe thead th {\n",
       "        text-align: left;\n",
       "    }\n",
       "\n",
       "    .dataframe tbody tr th {\n",
       "        vertical-align: top;\n",
       "    }\n",
       "</style>\n",
       "<table border=\"1\" class=\"dataframe\">\n",
       "  <thead>\n",
       "    <tr style=\"text-align: right;\">\n",
       "      <th></th>\n",
       "      <th>time</th>\n",
       "      <th>name</th>\n",
       "      <th>podType</th>\n",
       "      <th>event</th>\n",
       "    </tr>\n",
       "  </thead>\n",
       "  <tbody>\n",
       "    <tr>\n",
       "      <th>ba2ad388-374d-44f6-9a1b-961f0ea60200</th>\n",
       "      <td>2020-09-26 14:16:01</td>\n",
       "      <td>loadgenerator-79bff5bd57-lf2r8.16385b08d89b2303</td>\n",
       "      <td>loadgenerator</td>\n",
       "      <td>Created</td>\n",
       "    </tr>\n",
       "    <tr>\n",
       "      <th>f30e145a-c883-4c06-881b-f1d6674d6219</th>\n",
       "      <td>2020-09-26 14:16:01</td>\n",
       "      <td>loadgenerator-79bff5bd57-5vstf.16385b08d8a3dbed</td>\n",
       "      <td>loadgenerator</td>\n",
       "      <td>Created</td>\n",
       "    </tr>\n",
       "    <tr>\n",
       "      <th>308d1ed1-4ce1-4b1e-812f-5f57c0fa6006</th>\n",
       "      <td>2020-09-26 14:17:00</td>\n",
       "      <td>loadgenerator-79bff5bd57-5vstf.16385b16ae01aebb</td>\n",
       "      <td>loadgenerator</td>\n",
       "      <td>Killing</td>\n",
       "    </tr>\n",
       "    <tr>\n",
       "      <th>3f9eedcd-fc67-43c2-b0f2-ab09c2c63e3d</th>\n",
       "      <td>2020-09-26 14:17:17</td>\n",
       "      <td>frontend-5fcb8cdcdc-zbpr7.16385b1a8a38d1c1</td>\n",
       "      <td>frontend</td>\n",
       "      <td>Created</td>\n",
       "    </tr>\n",
       "    <tr>\n",
       "      <th>96746f22-a337-4986-a062-7ca3cfa45d42</th>\n",
       "      <td>2020-09-26 14:18:01</td>\n",
       "      <td>loadgenerator-79bff5bd57-2ld9p.16385b24df9cd32b</td>\n",
       "      <td>loadgenerator</td>\n",
       "      <td>Created</td>\n",
       "    </tr>\n",
       "    <tr>\n",
       "      <th>1c46cef9-bbb0-4f0f-990a-d82ba870c5ce</th>\n",
       "      <td>2020-09-26 14:20:19</td>\n",
       "      <td>frontend-5fcb8cdcdc-n2g46.16385b44f3d60e66</td>\n",
       "      <td>frontend</td>\n",
       "      <td>Created</td>\n",
       "    </tr>\n",
       "    <tr>\n",
       "      <th>706c7d4f-76c5-4834-8183-8b460594eda9</th>\n",
       "      <td>2020-09-26 14:21:01</td>\n",
       "      <td>loadgenerator-79bff5bd57-2ld9p.16385b4eaf3f2314</td>\n",
       "      <td>loadgenerator</td>\n",
       "      <td>Killing</td>\n",
       "    </tr>\n",
       "    <tr>\n",
       "      <th>e290b151-d0ca-4b7c-87c5-528157543578</th>\n",
       "      <td>2020-09-26 14:22:02</td>\n",
       "      <td>loadgenerator-79bff5bd57-crpds.16385b5ce5dd590d</td>\n",
       "      <td>loadgenerator</td>\n",
       "      <td>Created</td>\n",
       "    </tr>\n",
       "    <tr>\n",
       "      <th>06fa4048-342f-4fa2-af4a-ae5d954d5ebe</th>\n",
       "      <td>2020-09-26 14:22:02</td>\n",
       "      <td>loadgenerator-79bff5bd57-j98kt.16385b5ce5791463</td>\n",
       "      <td>loadgenerator</td>\n",
       "      <td>Created</td>\n",
       "    </tr>\n",
       "    <tr>\n",
       "      <th>9ad8edb2-cee0-4027-821c-fdc461e9aa04</th>\n",
       "      <td>2020-09-26 14:23:01</td>\n",
       "      <td>loadgenerator-79bff5bd57-crpds.16385b6ab373c591</td>\n",
       "      <td>loadgenerator</td>\n",
       "      <td>Killing</td>\n",
       "    </tr>\n",
       "    <tr>\n",
       "      <th>6a1b46fa-0554-47de-8c7d-d0a44ae49782</th>\n",
       "      <td>2020-09-26 14:24:02</td>\n",
       "      <td>loadgenerator-79bff5bd57-ndsdq.16385b78d9aebf28</td>\n",
       "      <td>loadgenerator</td>\n",
       "      <td>Created</td>\n",
       "    </tr>\n",
       "    <tr>\n",
       "      <th>6417435a-ec32-46ce-9f15-a5a8c2c4baaa</th>\n",
       "      <td>2020-09-26 14:28:01</td>\n",
       "      <td>loadgenerator-79bff5bd57-ndsdq.16385bb0b0bbc6a9</td>\n",
       "      <td>loadgenerator</td>\n",
       "      <td>Killing</td>\n",
       "    </tr>\n",
       "    <tr>\n",
       "      <th>a75cb90a-84c6-470d-9140-169ee949d7d0</th>\n",
       "      <td>2020-09-26 14:29:02</td>\n",
       "      <td>loadgenerator-79bff5bd57-bhbgc.16385bbee6676484</td>\n",
       "      <td>loadgenerator</td>\n",
       "      <td>Created</td>\n",
       "    </tr>\n",
       "    <tr>\n",
       "      <th>2f9d88f8-f970-4237-8367-b96066ed7f3e</th>\n",
       "      <td>2020-09-26 14:29:03</td>\n",
       "      <td>loadgenerator-79bff5bd57-ccz4l.16385bbef252dfed</td>\n",
       "      <td>loadgenerator</td>\n",
       "      <td>Created</td>\n",
       "    </tr>\n",
       "    <tr>\n",
       "      <th>57dfcf5b-ccb3-4814-997e-438290b3fc8e</th>\n",
       "      <td>2020-09-26 14:29:03</td>\n",
       "      <td>loadgenerator-79bff5bd57-ltz2q.16385bbeece90a87</td>\n",
       "      <td>loadgenerator</td>\n",
       "      <td>Created</td>\n",
       "    </tr>\n",
       "    <tr>\n",
       "      <th>09e7a71c-d323-45a3-9035-cdf22f3d4cc9</th>\n",
       "      <td>2020-09-26 14:29:03</td>\n",
       "      <td>loadgenerator-79bff5bd57-khnq4.16385bbef7a13322</td>\n",
       "      <td>loadgenerator</td>\n",
       "      <td>Created</td>\n",
       "    </tr>\n",
       "    <tr>\n",
       "      <th>9362b1c7-4407-4492-8e00-274c4f13794b</th>\n",
       "      <td>2020-09-26 14:29:03</td>\n",
       "      <td>loadgenerator-79bff5bd57-6w76x.16385bbeef503025</td>\n",
       "      <td>loadgenerator</td>\n",
       "      <td>Created</td>\n",
       "    </tr>\n",
       "    <tr>\n",
       "      <th>75842c5a-288b-4a15-af19-f2c6b1f553a0</th>\n",
       "      <td>2020-09-26 14:29:03</td>\n",
       "      <td>loadgenerator-79bff5bd57-rlbrx.16385bbef7e4711e</td>\n",
       "      <td>loadgenerator</td>\n",
       "      <td>Created</td>\n",
       "    </tr>\n",
       "    <tr>\n",
       "      <th>cfcf58a2-cc65-4580-a888-1da9d9c5123c</th>\n",
       "      <td>2020-09-26 14:30:02</td>\n",
       "      <td>loadgenerator-79bff5bd57-khnq4.16385bccb9ce821d</td>\n",
       "      <td>loadgenerator</td>\n",
       "      <td>Killing</td>\n",
       "    </tr>\n",
       "    <tr>\n",
       "      <th>b0f73acc-00f3-4c6c-9ece-4191407d7f50</th>\n",
       "      <td>2020-09-26 14:30:02</td>\n",
       "      <td>loadgenerator-79bff5bd57-rlbrx.16385bccb99748c3</td>\n",
       "      <td>loadgenerator</td>\n",
       "      <td>Killing</td>\n",
       "    </tr>\n",
       "    <tr>\n",
       "      <th>131dc866-2fb9-4c51-b9cd-a764e7931439</th>\n",
       "      <td>2020-09-26 14:30:02</td>\n",
       "      <td>loadgenerator-79bff5bd57-6w76x.16385bccb9fdc322</td>\n",
       "      <td>loadgenerator</td>\n",
       "      <td>Killing</td>\n",
       "    </tr>\n",
       "    <tr>\n",
       "      <th>40614103-1f20-4627-98a5-7f3cd962ef68</th>\n",
       "      <td>2020-09-26 14:30:10</td>\n",
       "      <td>frontend-5fcb8cdcdc-9xxnb.16385bcebb8f22b8</td>\n",
       "      <td>frontend</td>\n",
       "      <td>Created</td>\n",
       "    </tr>\n",
       "    <tr>\n",
       "      <th>e74a644e-76e3-4dd5-8f6b-8c381e9f35c3</th>\n",
       "      <td>2020-09-26 14:30:11</td>\n",
       "      <td>frontend-5fcb8cdcdc-n9fs7.16385bcebf15cfd5</td>\n",
       "      <td>frontend</td>\n",
       "      <td>Created</td>\n",
       "    </tr>\n",
       "    <tr>\n",
       "      <th>5de31c3c-e8ca-4ec0-a127-b1d5d925d7af</th>\n",
       "      <td>2020-09-26 14:30:11</td>\n",
       "      <td>frontend-5fcb8cdcdc-8txhp.16385bcebf167b78</td>\n",
       "      <td>frontend</td>\n",
       "      <td>Created</td>\n",
       "    </tr>\n",
       "    <tr>\n",
       "      <th>974fd3af-aac8-48ee-af46-33423f1c910a</th>\n",
       "      <td>2020-09-26 14:31:02</td>\n",
       "      <td>loadgenerator-79bff5bd57-ltz2q.16385bdab6760650</td>\n",
       "      <td>loadgenerator</td>\n",
       "      <td>Killing</td>\n",
       "    </tr>\n",
       "    <tr>\n",
       "      <th>915b2e4e-1a4d-4a74-86a3-d5ee75bb1be4</th>\n",
       "      <td>2020-09-26 14:31:02</td>\n",
       "      <td>loadgenerator-79bff5bd57-ccz4l.16385bdab721ea2f</td>\n",
       "      <td>loadgenerator</td>\n",
       "      <td>Killing</td>\n",
       "    </tr>\n",
       "    <tr>\n",
       "      <th>d269b91f-c715-491a-a07f-c7a2e708e925</th>\n",
       "      <td>2020-09-26 14:35:02</td>\n",
       "      <td>loadgenerator-79bff5bd57-bhbgc.16385c12b40e2fb5</td>\n",
       "      <td>loadgenerator</td>\n",
       "      <td>Killing</td>\n",
       "    </tr>\n",
       "    <tr>\n",
       "      <th>4ff2eb58-bd04-4888-b815-2e71b7358ebe</th>\n",
       "      <td>2020-09-26 14:36:58</td>\n",
       "      <td>frontend-5fcb8cdcdc-8txhp.16385c2dae2e6fb6</td>\n",
       "      <td>frontend</td>\n",
       "      <td>Killing</td>\n",
       "    </tr>\n",
       "    <tr>\n",
       "      <th>7cbc755a-14f7-47c0-a074-51fc780385cc</th>\n",
       "      <td>2020-09-26 14:36:58</td>\n",
       "      <td>frontend-5fcb8cdcdc-n9fs7.16385c2dadbb7d85</td>\n",
       "      <td>frontend</td>\n",
       "      <td>Killing</td>\n",
       "    </tr>\n",
       "    <tr>\n",
       "      <th>d948badd-db98-4f25-9055-37c526912e6b</th>\n",
       "      <td>2020-09-26 14:36:58</td>\n",
       "      <td>frontend-5fcb8cdcdc-9xxnb.16385c2dadfaabd8</td>\n",
       "      <td>frontend</td>\n",
       "      <td>Killing</td>\n",
       "    </tr>\n",
       "    <tr>\n",
       "      <th>...</th>\n",
       "      <td>...</td>\n",
       "      <td>...</td>\n",
       "      <td>...</td>\n",
       "      <td>...</td>\n",
       "    </tr>\n",
       "    <tr>\n",
       "      <th>a8514b1e-7f06-4380-bc3d-222e7753e075</th>\n",
       "      <td>2020-09-27 01:58:08</td>\n",
       "      <td>loadgenerator-79bff5bd57-b79l2.163881597e0ca523</td>\n",
       "      <td>loadgenerator</td>\n",
       "      <td>Killing</td>\n",
       "    </tr>\n",
       "    <tr>\n",
       "      <th>c563a156-caf0-4c60-b218-e22d4be5be06</th>\n",
       "      <td>2020-09-27 01:59:09</td>\n",
       "      <td>loadgenerator-79bff5bd57-c66j2.16388167a6489b8c</td>\n",
       "      <td>loadgenerator</td>\n",
       "      <td>Created</td>\n",
       "    </tr>\n",
       "    <tr>\n",
       "      <th>7d9f5d3b-8f40-49c9-8b46-56a093f7dad1</th>\n",
       "      <td>2020-09-27 02:00:09</td>\n",
       "      <td>loadgenerator-79bff5bd57-c66j2.163881757c7dc363</td>\n",
       "      <td>loadgenerator</td>\n",
       "      <td>Killing</td>\n",
       "    </tr>\n",
       "    <tr>\n",
       "      <th>526ff80d-1957-41c7-a92f-b8e562c41ccb</th>\n",
       "      <td>2020-09-27 02:06:10</td>\n",
       "      <td>loadgenerator-79bff5bd57-wj2ls.163881c9a9aaf765</td>\n",
       "      <td>loadgenerator</td>\n",
       "      <td>Created</td>\n",
       "    </tr>\n",
       "    <tr>\n",
       "      <th>5d6d1d08-9bf3-4c57-87a7-343b32e2ffa5</th>\n",
       "      <td>2020-09-27 02:07:10</td>\n",
       "      <td>loadgenerator-79bff5bd57-5rcvx.163881d79e7157f9</td>\n",
       "      <td>loadgenerator</td>\n",
       "      <td>Created</td>\n",
       "    </tr>\n",
       "    <tr>\n",
       "      <th>c4f9f9d0-eea7-4080-a3ab-4da9a628060f</th>\n",
       "      <td>2020-09-27 02:08:18</td>\n",
       "      <td>frontend-5fcb8cdcdc-htltw.163881e780b638d8</td>\n",
       "      <td>frontend</td>\n",
       "      <td>Created</td>\n",
       "    </tr>\n",
       "    <tr>\n",
       "      <th>a7d13732-585c-449a-85da-b5dcb7dec2c5</th>\n",
       "      <td>2020-09-27 02:09:10</td>\n",
       "      <td>loadgenerator-79bff5bd57-5rcvx.163881f37b08dcb0</td>\n",
       "      <td>loadgenerator</td>\n",
       "      <td>Killing</td>\n",
       "    </tr>\n",
       "    <tr>\n",
       "      <th>0893a563-cdb7-4ae2-9c3d-2039b197bd46</th>\n",
       "      <td>2020-09-27 02:10:11</td>\n",
       "      <td>loadgenerator-79bff5bd57-v2m4b.16388201aa56cdf0</td>\n",
       "      <td>loadgenerator</td>\n",
       "      <td>Created</td>\n",
       "    </tr>\n",
       "    <tr>\n",
       "      <th>c64fbb7c-85e2-4a5a-acea-4917de8c46ef</th>\n",
       "      <td>2020-09-27 02:12:10</td>\n",
       "      <td>loadgenerator-79bff5bd57-v2m4b.1638821d7a8964cf</td>\n",
       "      <td>loadgenerator</td>\n",
       "      <td>Killing</td>\n",
       "    </tr>\n",
       "    <tr>\n",
       "      <th>80a4bf3d-001c-475c-a809-debb828ea9db</th>\n",
       "      <td>2020-09-27 02:18:12</td>\n",
       "      <td>loadgenerator-79bff5bd57-xn4bm.16388271a16b11e5</td>\n",
       "      <td>loadgenerator</td>\n",
       "      <td>Created</td>\n",
       "    </tr>\n",
       "    <tr>\n",
       "      <th>b07f74b8-3de1-495a-b4b7-627d28f70af3</th>\n",
       "      <td>2020-09-27 02:18:54</td>\n",
       "      <td>frontend-5fcb8cdcdc-htltw.1638827b8f873c06</td>\n",
       "      <td>frontend</td>\n",
       "      <td>Killing</td>\n",
       "    </tr>\n",
       "    <tr>\n",
       "      <th>82a2411f-0ac9-4cbe-a213-ccf34323beeb</th>\n",
       "      <td>2020-09-27 02:19:10</td>\n",
       "      <td>frontend-5fcb8cdcdc-5dndx.1638827f4c9298f3</td>\n",
       "      <td>frontend</td>\n",
       "      <td>Created</td>\n",
       "    </tr>\n",
       "    <tr>\n",
       "      <th>00a8b794-a97b-480f-bd51-5b119fd82358</th>\n",
       "      <td>2020-09-27 02:25:12</td>\n",
       "      <td>loadgenerator-79bff5bd57-xn4bm.163882d37a0af75b</td>\n",
       "      <td>loadgenerator</td>\n",
       "      <td>Killing</td>\n",
       "    </tr>\n",
       "    <tr>\n",
       "      <th>5be3482f-8438-4300-9ac8-1a398ae19687</th>\n",
       "      <td>2020-09-27 02:27:13</td>\n",
       "      <td>loadgenerator-79bff5bd57-hgj26.163882efab61d2c7</td>\n",
       "      <td>loadgenerator</td>\n",
       "      <td>Created</td>\n",
       "    </tr>\n",
       "    <tr>\n",
       "      <th>e65f0719-f3f1-4b2a-bd09-37e258ad971e</th>\n",
       "      <td>2020-09-27 02:28:12</td>\n",
       "      <td>loadgenerator-79bff5bd57-hgj26.163882fd794ea582</td>\n",
       "      <td>loadgenerator</td>\n",
       "      <td>Killing</td>\n",
       "    </tr>\n",
       "    <tr>\n",
       "      <th>a8f95fbf-81c4-4e43-b2f2-14841a96ee02</th>\n",
       "      <td>2020-09-27 02:29:13</td>\n",
       "      <td>loadgenerator-79bff5bd57-7vcwl.1638830ba7a7dcea</td>\n",
       "      <td>loadgenerator</td>\n",
       "      <td>Created</td>\n",
       "    </tr>\n",
       "    <tr>\n",
       "      <th>30aa516c-a3f3-4fc0-824f-c124768f730a</th>\n",
       "      <td>2020-09-27 02:30:13</td>\n",
       "      <td>loadgenerator-79bff5bd57-k22jx.16388319a17d43c1</td>\n",
       "      <td>loadgenerator</td>\n",
       "      <td>Created</td>\n",
       "    </tr>\n",
       "    <tr>\n",
       "      <th>080f476d-fd6c-4abb-85fd-6901d1c20865</th>\n",
       "      <td>2020-09-27 02:31:13</td>\n",
       "      <td>loadgenerator-79bff5bd57-dqjcp.16388327a160b00b</td>\n",
       "      <td>loadgenerator</td>\n",
       "      <td>Created</td>\n",
       "    </tr>\n",
       "    <tr>\n",
       "      <th>d1f8148a-00d9-4065-9140-243af0e32195</th>\n",
       "      <td>2020-09-27 02:32:13</td>\n",
       "      <td>loadgenerator-79bff5bd57-hfnq8.163883359da8be9a</td>\n",
       "      <td>loadgenerator</td>\n",
       "      <td>Created</td>\n",
       "    </tr>\n",
       "    <tr>\n",
       "      <th>085ea6fe-7e93-4145-8366-4f0a57b50287</th>\n",
       "      <td>2020-09-27 02:32:19</td>\n",
       "      <td>frontend-5fcb8cdcdc-pszft.16388336e968efb5</td>\n",
       "      <td>frontend</td>\n",
       "      <td>Created</td>\n",
       "    </tr>\n",
       "    <tr>\n",
       "      <th>1fa315ae-ee03-4455-a271-06c3295a017f</th>\n",
       "      <td>2020-09-27 02:34:21</td>\n",
       "      <td>frontend-5fcb8cdcdc-b5htj.163883533db1c034</td>\n",
       "      <td>frontend</td>\n",
       "      <td>Created</td>\n",
       "    </tr>\n",
       "    <tr>\n",
       "      <th>d6048e27-8dab-48e6-a928-671d04170789</th>\n",
       "      <td>2020-09-27 02:36:13</td>\n",
       "      <td>loadgenerator-79bff5bd57-hfnq8.1638836d786f1cec</td>\n",
       "      <td>loadgenerator</td>\n",
       "      <td>Killing</td>\n",
       "    </tr>\n",
       "    <tr>\n",
       "      <th>685c9c4f-6682-48d9-af7d-629f4d46b4f2</th>\n",
       "      <td>2020-09-27 02:39:14</td>\n",
       "      <td>loadgenerator-79bff5bd57-dqjcp.16388397787e2dd1</td>\n",
       "      <td>loadgenerator</td>\n",
       "      <td>Killing</td>\n",
       "    </tr>\n",
       "    <tr>\n",
       "      <th>ed2a3683-edf6-44d4-9885-1932321e44ad</th>\n",
       "      <td>2020-09-27 02:40:14</td>\n",
       "      <td>loadgenerator-79bff5bd57-ccst8.163883a5a223b396</td>\n",
       "      <td>loadgenerator</td>\n",
       "      <td>Created</td>\n",
       "    </tr>\n",
       "    <tr>\n",
       "      <th>eb65cf41-52d2-4251-a9c1-c26ab6abada1</th>\n",
       "      <td>2020-09-27 02:41:14</td>\n",
       "      <td>loadgenerator-79bff5bd57-ccst8.163883b378a68d49</td>\n",
       "      <td>loadgenerator</td>\n",
       "      <td>Killing</td>\n",
       "    </tr>\n",
       "    <tr>\n",
       "      <th>0c9d1996-6df6-4f5c-ad43-a678c5dad67c</th>\n",
       "      <td>2020-09-27 02:41:53</td>\n",
       "      <td>frontend-5fcb8cdcdc-b5htj.163883bc80d8ce36</td>\n",
       "      <td>frontend</td>\n",
       "      <td>Killing</td>\n",
       "    </tr>\n",
       "    <tr>\n",
       "      <th>729db466-fe74-45a9-a7ac-de25e695370d</th>\n",
       "      <td>2020-09-27 02:44:14</td>\n",
       "      <td>loadgenerator-79bff5bd57-k22jx.163883dd7a3b82b3</td>\n",
       "      <td>loadgenerator</td>\n",
       "      <td>Killing</td>\n",
       "    </tr>\n",
       "    <tr>\n",
       "      <th>b26a3395-4f64-4c77-9d0d-447e337216f1</th>\n",
       "      <td>2020-09-27 02:47:15</td>\n",
       "      <td>loadgenerator-79bff5bd57-7vcwl.1638840778d1db9e</td>\n",
       "      <td>loadgenerator</td>\n",
       "      <td>Killing</td>\n",
       "    </tr>\n",
       "    <tr>\n",
       "      <th>760f33e3-3455-4cac-b970-b9a3e2b7b770</th>\n",
       "      <td>2020-09-27 02:49:58</td>\n",
       "      <td>frontend-5fcb8cdcdc-pszft.1638842d7b535215</td>\n",
       "      <td>frontend</td>\n",
       "      <td>Killing</td>\n",
       "    </tr>\n",
       "    <tr>\n",
       "      <th>78119a00-1c62-4198-b9f3-e523b293d682</th>\n",
       "      <td>2020-09-27 02:54:01</td>\n",
       "      <td>frontend-5fcb8cdcdc-5dndx.163884660b3a64ca</td>\n",
       "      <td>frontend</td>\n",
       "      <td>Killing</td>\n",
       "    </tr>\n",
       "  </tbody>\n",
       "</table>\n",
       "<p>677 rows × 4 columns</p>\n",
       "</div>"
      ],
      "text/plain": [
       "                                                    time  \\\n",
       "ba2ad388-374d-44f6-9a1b-961f0ea60200 2020-09-26 14:16:01   \n",
       "f30e145a-c883-4c06-881b-f1d6674d6219 2020-09-26 14:16:01   \n",
       "308d1ed1-4ce1-4b1e-812f-5f57c0fa6006 2020-09-26 14:17:00   \n",
       "3f9eedcd-fc67-43c2-b0f2-ab09c2c63e3d 2020-09-26 14:17:17   \n",
       "96746f22-a337-4986-a062-7ca3cfa45d42 2020-09-26 14:18:01   \n",
       "1c46cef9-bbb0-4f0f-990a-d82ba870c5ce 2020-09-26 14:20:19   \n",
       "706c7d4f-76c5-4834-8183-8b460594eda9 2020-09-26 14:21:01   \n",
       "e290b151-d0ca-4b7c-87c5-528157543578 2020-09-26 14:22:02   \n",
       "06fa4048-342f-4fa2-af4a-ae5d954d5ebe 2020-09-26 14:22:02   \n",
       "9ad8edb2-cee0-4027-821c-fdc461e9aa04 2020-09-26 14:23:01   \n",
       "6a1b46fa-0554-47de-8c7d-d0a44ae49782 2020-09-26 14:24:02   \n",
       "6417435a-ec32-46ce-9f15-a5a8c2c4baaa 2020-09-26 14:28:01   \n",
       "a75cb90a-84c6-470d-9140-169ee949d7d0 2020-09-26 14:29:02   \n",
       "2f9d88f8-f970-4237-8367-b96066ed7f3e 2020-09-26 14:29:03   \n",
       "57dfcf5b-ccb3-4814-997e-438290b3fc8e 2020-09-26 14:29:03   \n",
       "09e7a71c-d323-45a3-9035-cdf22f3d4cc9 2020-09-26 14:29:03   \n",
       "9362b1c7-4407-4492-8e00-274c4f13794b 2020-09-26 14:29:03   \n",
       "75842c5a-288b-4a15-af19-f2c6b1f553a0 2020-09-26 14:29:03   \n",
       "cfcf58a2-cc65-4580-a888-1da9d9c5123c 2020-09-26 14:30:02   \n",
       "b0f73acc-00f3-4c6c-9ece-4191407d7f50 2020-09-26 14:30:02   \n",
       "131dc866-2fb9-4c51-b9cd-a764e7931439 2020-09-26 14:30:02   \n",
       "40614103-1f20-4627-98a5-7f3cd962ef68 2020-09-26 14:30:10   \n",
       "e74a644e-76e3-4dd5-8f6b-8c381e9f35c3 2020-09-26 14:30:11   \n",
       "5de31c3c-e8ca-4ec0-a127-b1d5d925d7af 2020-09-26 14:30:11   \n",
       "974fd3af-aac8-48ee-af46-33423f1c910a 2020-09-26 14:31:02   \n",
       "915b2e4e-1a4d-4a74-86a3-d5ee75bb1be4 2020-09-26 14:31:02   \n",
       "d269b91f-c715-491a-a07f-c7a2e708e925 2020-09-26 14:35:02   \n",
       "4ff2eb58-bd04-4888-b815-2e71b7358ebe 2020-09-26 14:36:58   \n",
       "7cbc755a-14f7-47c0-a074-51fc780385cc 2020-09-26 14:36:58   \n",
       "d948badd-db98-4f25-9055-37c526912e6b 2020-09-26 14:36:58   \n",
       "...                                                  ...   \n",
       "a8514b1e-7f06-4380-bc3d-222e7753e075 2020-09-27 01:58:08   \n",
       "c563a156-caf0-4c60-b218-e22d4be5be06 2020-09-27 01:59:09   \n",
       "7d9f5d3b-8f40-49c9-8b46-56a093f7dad1 2020-09-27 02:00:09   \n",
       "526ff80d-1957-41c7-a92f-b8e562c41ccb 2020-09-27 02:06:10   \n",
       "5d6d1d08-9bf3-4c57-87a7-343b32e2ffa5 2020-09-27 02:07:10   \n",
       "c4f9f9d0-eea7-4080-a3ab-4da9a628060f 2020-09-27 02:08:18   \n",
       "a7d13732-585c-449a-85da-b5dcb7dec2c5 2020-09-27 02:09:10   \n",
       "0893a563-cdb7-4ae2-9c3d-2039b197bd46 2020-09-27 02:10:11   \n",
       "c64fbb7c-85e2-4a5a-acea-4917de8c46ef 2020-09-27 02:12:10   \n",
       "80a4bf3d-001c-475c-a809-debb828ea9db 2020-09-27 02:18:12   \n",
       "b07f74b8-3de1-495a-b4b7-627d28f70af3 2020-09-27 02:18:54   \n",
       "82a2411f-0ac9-4cbe-a213-ccf34323beeb 2020-09-27 02:19:10   \n",
       "00a8b794-a97b-480f-bd51-5b119fd82358 2020-09-27 02:25:12   \n",
       "5be3482f-8438-4300-9ac8-1a398ae19687 2020-09-27 02:27:13   \n",
       "e65f0719-f3f1-4b2a-bd09-37e258ad971e 2020-09-27 02:28:12   \n",
       "a8f95fbf-81c4-4e43-b2f2-14841a96ee02 2020-09-27 02:29:13   \n",
       "30aa516c-a3f3-4fc0-824f-c124768f730a 2020-09-27 02:30:13   \n",
       "080f476d-fd6c-4abb-85fd-6901d1c20865 2020-09-27 02:31:13   \n",
       "d1f8148a-00d9-4065-9140-243af0e32195 2020-09-27 02:32:13   \n",
       "085ea6fe-7e93-4145-8366-4f0a57b50287 2020-09-27 02:32:19   \n",
       "1fa315ae-ee03-4455-a271-06c3295a017f 2020-09-27 02:34:21   \n",
       "d6048e27-8dab-48e6-a928-671d04170789 2020-09-27 02:36:13   \n",
       "685c9c4f-6682-48d9-af7d-629f4d46b4f2 2020-09-27 02:39:14   \n",
       "ed2a3683-edf6-44d4-9885-1932321e44ad 2020-09-27 02:40:14   \n",
       "eb65cf41-52d2-4251-a9c1-c26ab6abada1 2020-09-27 02:41:14   \n",
       "0c9d1996-6df6-4f5c-ad43-a678c5dad67c 2020-09-27 02:41:53   \n",
       "729db466-fe74-45a9-a7ac-de25e695370d 2020-09-27 02:44:14   \n",
       "b26a3395-4f64-4c77-9d0d-447e337216f1 2020-09-27 02:47:15   \n",
       "760f33e3-3455-4cac-b970-b9a3e2b7b770 2020-09-27 02:49:58   \n",
       "78119a00-1c62-4198-b9f3-e523b293d682 2020-09-27 02:54:01   \n",
       "\n",
       "                                                                                 name  \\\n",
       "ba2ad388-374d-44f6-9a1b-961f0ea60200  loadgenerator-79bff5bd57-lf2r8.16385b08d89b2303   \n",
       "f30e145a-c883-4c06-881b-f1d6674d6219  loadgenerator-79bff5bd57-5vstf.16385b08d8a3dbed   \n",
       "308d1ed1-4ce1-4b1e-812f-5f57c0fa6006  loadgenerator-79bff5bd57-5vstf.16385b16ae01aebb   \n",
       "3f9eedcd-fc67-43c2-b0f2-ab09c2c63e3d       frontend-5fcb8cdcdc-zbpr7.16385b1a8a38d1c1   \n",
       "96746f22-a337-4986-a062-7ca3cfa45d42  loadgenerator-79bff5bd57-2ld9p.16385b24df9cd32b   \n",
       "1c46cef9-bbb0-4f0f-990a-d82ba870c5ce       frontend-5fcb8cdcdc-n2g46.16385b44f3d60e66   \n",
       "706c7d4f-76c5-4834-8183-8b460594eda9  loadgenerator-79bff5bd57-2ld9p.16385b4eaf3f2314   \n",
       "e290b151-d0ca-4b7c-87c5-528157543578  loadgenerator-79bff5bd57-crpds.16385b5ce5dd590d   \n",
       "06fa4048-342f-4fa2-af4a-ae5d954d5ebe  loadgenerator-79bff5bd57-j98kt.16385b5ce5791463   \n",
       "9ad8edb2-cee0-4027-821c-fdc461e9aa04  loadgenerator-79bff5bd57-crpds.16385b6ab373c591   \n",
       "6a1b46fa-0554-47de-8c7d-d0a44ae49782  loadgenerator-79bff5bd57-ndsdq.16385b78d9aebf28   \n",
       "6417435a-ec32-46ce-9f15-a5a8c2c4baaa  loadgenerator-79bff5bd57-ndsdq.16385bb0b0bbc6a9   \n",
       "a75cb90a-84c6-470d-9140-169ee949d7d0  loadgenerator-79bff5bd57-bhbgc.16385bbee6676484   \n",
       "2f9d88f8-f970-4237-8367-b96066ed7f3e  loadgenerator-79bff5bd57-ccz4l.16385bbef252dfed   \n",
       "57dfcf5b-ccb3-4814-997e-438290b3fc8e  loadgenerator-79bff5bd57-ltz2q.16385bbeece90a87   \n",
       "09e7a71c-d323-45a3-9035-cdf22f3d4cc9  loadgenerator-79bff5bd57-khnq4.16385bbef7a13322   \n",
       "9362b1c7-4407-4492-8e00-274c4f13794b  loadgenerator-79bff5bd57-6w76x.16385bbeef503025   \n",
       "75842c5a-288b-4a15-af19-f2c6b1f553a0  loadgenerator-79bff5bd57-rlbrx.16385bbef7e4711e   \n",
       "cfcf58a2-cc65-4580-a888-1da9d9c5123c  loadgenerator-79bff5bd57-khnq4.16385bccb9ce821d   \n",
       "b0f73acc-00f3-4c6c-9ece-4191407d7f50  loadgenerator-79bff5bd57-rlbrx.16385bccb99748c3   \n",
       "131dc866-2fb9-4c51-b9cd-a764e7931439  loadgenerator-79bff5bd57-6w76x.16385bccb9fdc322   \n",
       "40614103-1f20-4627-98a5-7f3cd962ef68       frontend-5fcb8cdcdc-9xxnb.16385bcebb8f22b8   \n",
       "e74a644e-76e3-4dd5-8f6b-8c381e9f35c3       frontend-5fcb8cdcdc-n9fs7.16385bcebf15cfd5   \n",
       "5de31c3c-e8ca-4ec0-a127-b1d5d925d7af       frontend-5fcb8cdcdc-8txhp.16385bcebf167b78   \n",
       "974fd3af-aac8-48ee-af46-33423f1c910a  loadgenerator-79bff5bd57-ltz2q.16385bdab6760650   \n",
       "915b2e4e-1a4d-4a74-86a3-d5ee75bb1be4  loadgenerator-79bff5bd57-ccz4l.16385bdab721ea2f   \n",
       "d269b91f-c715-491a-a07f-c7a2e708e925  loadgenerator-79bff5bd57-bhbgc.16385c12b40e2fb5   \n",
       "4ff2eb58-bd04-4888-b815-2e71b7358ebe       frontend-5fcb8cdcdc-8txhp.16385c2dae2e6fb6   \n",
       "7cbc755a-14f7-47c0-a074-51fc780385cc       frontend-5fcb8cdcdc-n9fs7.16385c2dadbb7d85   \n",
       "d948badd-db98-4f25-9055-37c526912e6b       frontend-5fcb8cdcdc-9xxnb.16385c2dadfaabd8   \n",
       "...                                                                               ...   \n",
       "a8514b1e-7f06-4380-bc3d-222e7753e075  loadgenerator-79bff5bd57-b79l2.163881597e0ca523   \n",
       "c563a156-caf0-4c60-b218-e22d4be5be06  loadgenerator-79bff5bd57-c66j2.16388167a6489b8c   \n",
       "7d9f5d3b-8f40-49c9-8b46-56a093f7dad1  loadgenerator-79bff5bd57-c66j2.163881757c7dc363   \n",
       "526ff80d-1957-41c7-a92f-b8e562c41ccb  loadgenerator-79bff5bd57-wj2ls.163881c9a9aaf765   \n",
       "5d6d1d08-9bf3-4c57-87a7-343b32e2ffa5  loadgenerator-79bff5bd57-5rcvx.163881d79e7157f9   \n",
       "c4f9f9d0-eea7-4080-a3ab-4da9a628060f       frontend-5fcb8cdcdc-htltw.163881e780b638d8   \n",
       "a7d13732-585c-449a-85da-b5dcb7dec2c5  loadgenerator-79bff5bd57-5rcvx.163881f37b08dcb0   \n",
       "0893a563-cdb7-4ae2-9c3d-2039b197bd46  loadgenerator-79bff5bd57-v2m4b.16388201aa56cdf0   \n",
       "c64fbb7c-85e2-4a5a-acea-4917de8c46ef  loadgenerator-79bff5bd57-v2m4b.1638821d7a8964cf   \n",
       "80a4bf3d-001c-475c-a809-debb828ea9db  loadgenerator-79bff5bd57-xn4bm.16388271a16b11e5   \n",
       "b07f74b8-3de1-495a-b4b7-627d28f70af3       frontend-5fcb8cdcdc-htltw.1638827b8f873c06   \n",
       "82a2411f-0ac9-4cbe-a213-ccf34323beeb       frontend-5fcb8cdcdc-5dndx.1638827f4c9298f3   \n",
       "00a8b794-a97b-480f-bd51-5b119fd82358  loadgenerator-79bff5bd57-xn4bm.163882d37a0af75b   \n",
       "5be3482f-8438-4300-9ac8-1a398ae19687  loadgenerator-79bff5bd57-hgj26.163882efab61d2c7   \n",
       "e65f0719-f3f1-4b2a-bd09-37e258ad971e  loadgenerator-79bff5bd57-hgj26.163882fd794ea582   \n",
       "a8f95fbf-81c4-4e43-b2f2-14841a96ee02  loadgenerator-79bff5bd57-7vcwl.1638830ba7a7dcea   \n",
       "30aa516c-a3f3-4fc0-824f-c124768f730a  loadgenerator-79bff5bd57-k22jx.16388319a17d43c1   \n",
       "080f476d-fd6c-4abb-85fd-6901d1c20865  loadgenerator-79bff5bd57-dqjcp.16388327a160b00b   \n",
       "d1f8148a-00d9-4065-9140-243af0e32195  loadgenerator-79bff5bd57-hfnq8.163883359da8be9a   \n",
       "085ea6fe-7e93-4145-8366-4f0a57b50287       frontend-5fcb8cdcdc-pszft.16388336e968efb5   \n",
       "1fa315ae-ee03-4455-a271-06c3295a017f       frontend-5fcb8cdcdc-b5htj.163883533db1c034   \n",
       "d6048e27-8dab-48e6-a928-671d04170789  loadgenerator-79bff5bd57-hfnq8.1638836d786f1cec   \n",
       "685c9c4f-6682-48d9-af7d-629f4d46b4f2  loadgenerator-79bff5bd57-dqjcp.16388397787e2dd1   \n",
       "ed2a3683-edf6-44d4-9885-1932321e44ad  loadgenerator-79bff5bd57-ccst8.163883a5a223b396   \n",
       "eb65cf41-52d2-4251-a9c1-c26ab6abada1  loadgenerator-79bff5bd57-ccst8.163883b378a68d49   \n",
       "0c9d1996-6df6-4f5c-ad43-a678c5dad67c       frontend-5fcb8cdcdc-b5htj.163883bc80d8ce36   \n",
       "729db466-fe74-45a9-a7ac-de25e695370d  loadgenerator-79bff5bd57-k22jx.163883dd7a3b82b3   \n",
       "b26a3395-4f64-4c77-9d0d-447e337216f1  loadgenerator-79bff5bd57-7vcwl.1638840778d1db9e   \n",
       "760f33e3-3455-4cac-b970-b9a3e2b7b770       frontend-5fcb8cdcdc-pszft.1638842d7b535215   \n",
       "78119a00-1c62-4198-b9f3-e523b293d682       frontend-5fcb8cdcdc-5dndx.163884660b3a64ca   \n",
       "\n",
       "                                            podType    event  \n",
       "ba2ad388-374d-44f6-9a1b-961f0ea60200  loadgenerator  Created  \n",
       "f30e145a-c883-4c06-881b-f1d6674d6219  loadgenerator  Created  \n",
       "308d1ed1-4ce1-4b1e-812f-5f57c0fa6006  loadgenerator  Killing  \n",
       "3f9eedcd-fc67-43c2-b0f2-ab09c2c63e3d       frontend  Created  \n",
       "96746f22-a337-4986-a062-7ca3cfa45d42  loadgenerator  Created  \n",
       "1c46cef9-bbb0-4f0f-990a-d82ba870c5ce       frontend  Created  \n",
       "706c7d4f-76c5-4834-8183-8b460594eda9  loadgenerator  Killing  \n",
       "e290b151-d0ca-4b7c-87c5-528157543578  loadgenerator  Created  \n",
       "06fa4048-342f-4fa2-af4a-ae5d954d5ebe  loadgenerator  Created  \n",
       "9ad8edb2-cee0-4027-821c-fdc461e9aa04  loadgenerator  Killing  \n",
       "6a1b46fa-0554-47de-8c7d-d0a44ae49782  loadgenerator  Created  \n",
       "6417435a-ec32-46ce-9f15-a5a8c2c4baaa  loadgenerator  Killing  \n",
       "a75cb90a-84c6-470d-9140-169ee949d7d0  loadgenerator  Created  \n",
       "2f9d88f8-f970-4237-8367-b96066ed7f3e  loadgenerator  Created  \n",
       "57dfcf5b-ccb3-4814-997e-438290b3fc8e  loadgenerator  Created  \n",
       "09e7a71c-d323-45a3-9035-cdf22f3d4cc9  loadgenerator  Created  \n",
       "9362b1c7-4407-4492-8e00-274c4f13794b  loadgenerator  Created  \n",
       "75842c5a-288b-4a15-af19-f2c6b1f553a0  loadgenerator  Created  \n",
       "cfcf58a2-cc65-4580-a888-1da9d9c5123c  loadgenerator  Killing  \n",
       "b0f73acc-00f3-4c6c-9ece-4191407d7f50  loadgenerator  Killing  \n",
       "131dc866-2fb9-4c51-b9cd-a764e7931439  loadgenerator  Killing  \n",
       "40614103-1f20-4627-98a5-7f3cd962ef68       frontend  Created  \n",
       "e74a644e-76e3-4dd5-8f6b-8c381e9f35c3       frontend  Created  \n",
       "5de31c3c-e8ca-4ec0-a127-b1d5d925d7af       frontend  Created  \n",
       "974fd3af-aac8-48ee-af46-33423f1c910a  loadgenerator  Killing  \n",
       "915b2e4e-1a4d-4a74-86a3-d5ee75bb1be4  loadgenerator  Killing  \n",
       "d269b91f-c715-491a-a07f-c7a2e708e925  loadgenerator  Killing  \n",
       "4ff2eb58-bd04-4888-b815-2e71b7358ebe       frontend  Killing  \n",
       "7cbc755a-14f7-47c0-a074-51fc780385cc       frontend  Killing  \n",
       "d948badd-db98-4f25-9055-37c526912e6b       frontend  Killing  \n",
       "...                                             ...      ...  \n",
       "a8514b1e-7f06-4380-bc3d-222e7753e075  loadgenerator  Killing  \n",
       "c563a156-caf0-4c60-b218-e22d4be5be06  loadgenerator  Created  \n",
       "7d9f5d3b-8f40-49c9-8b46-56a093f7dad1  loadgenerator  Killing  \n",
       "526ff80d-1957-41c7-a92f-b8e562c41ccb  loadgenerator  Created  \n",
       "5d6d1d08-9bf3-4c57-87a7-343b32e2ffa5  loadgenerator  Created  \n",
       "c4f9f9d0-eea7-4080-a3ab-4da9a628060f       frontend  Created  \n",
       "a7d13732-585c-449a-85da-b5dcb7dec2c5  loadgenerator  Killing  \n",
       "0893a563-cdb7-4ae2-9c3d-2039b197bd46  loadgenerator  Created  \n",
       "c64fbb7c-85e2-4a5a-acea-4917de8c46ef  loadgenerator  Killing  \n",
       "80a4bf3d-001c-475c-a809-debb828ea9db  loadgenerator  Created  \n",
       "b07f74b8-3de1-495a-b4b7-627d28f70af3       frontend  Killing  \n",
       "82a2411f-0ac9-4cbe-a213-ccf34323beeb       frontend  Created  \n",
       "00a8b794-a97b-480f-bd51-5b119fd82358  loadgenerator  Killing  \n",
       "5be3482f-8438-4300-9ac8-1a398ae19687  loadgenerator  Created  \n",
       "e65f0719-f3f1-4b2a-bd09-37e258ad971e  loadgenerator  Killing  \n",
       "a8f95fbf-81c4-4e43-b2f2-14841a96ee02  loadgenerator  Created  \n",
       "30aa516c-a3f3-4fc0-824f-c124768f730a  loadgenerator  Created  \n",
       "080f476d-fd6c-4abb-85fd-6901d1c20865  loadgenerator  Created  \n",
       "d1f8148a-00d9-4065-9140-243af0e32195  loadgenerator  Created  \n",
       "085ea6fe-7e93-4145-8366-4f0a57b50287       frontend  Created  \n",
       "1fa315ae-ee03-4455-a271-06c3295a017f       frontend  Created  \n",
       "d6048e27-8dab-48e6-a928-671d04170789  loadgenerator  Killing  \n",
       "685c9c4f-6682-48d9-af7d-629f4d46b4f2  loadgenerator  Killing  \n",
       "ed2a3683-edf6-44d4-9885-1932321e44ad  loadgenerator  Created  \n",
       "eb65cf41-52d2-4251-a9c1-c26ab6abada1  loadgenerator  Killing  \n",
       "0c9d1996-6df6-4f5c-ad43-a678c5dad67c       frontend  Killing  \n",
       "729db466-fe74-45a9-a7ac-de25e695370d  loadgenerator  Killing  \n",
       "b26a3395-4f64-4c77-9d0d-447e337216f1  loadgenerator  Killing  \n",
       "760f33e3-3455-4cac-b970-b9a3e2b7b770       frontend  Killing  \n",
       "78119a00-1c62-4198-b9f3-e523b293d682       frontend  Killing  \n",
       "\n",
       "[677 rows x 4 columns]"
      ]
     },
     "execution_count": 21,
     "metadata": {},
     "output_type": "execute_result"
    }
   ],
   "source": [
    "trace1 = trace\n",
    "trace1"
   ]
  },
  {
   "cell_type": "code",
   "execution_count": 22,
   "metadata": {},
   "outputs": [
    {
     "data": {
      "text/html": [
       "<div>\n",
       "<style>\n",
       "    .dataframe thead tr:only-child th {\n",
       "        text-align: right;\n",
       "    }\n",
       "\n",
       "    .dataframe thead th {\n",
       "        text-align: left;\n",
       "    }\n",
       "\n",
       "    .dataframe tbody tr th {\n",
       "        vertical-align: top;\n",
       "    }\n",
       "</style>\n",
       "<table border=\"1\" class=\"dataframe\">\n",
       "  <thead>\n",
       "    <tr style=\"text-align: right;\">\n",
       "      <th></th>\n",
       "      <th>time</th>\n",
       "      <th>name</th>\n",
       "      <th>podType</th>\n",
       "      <th>event</th>\n",
       "    </tr>\n",
       "  </thead>\n",
       "  <tbody>\n",
       "    <tr>\n",
       "      <th>ba2ad388-374d-44f6-9a1b-961f0ea60200</th>\n",
       "      <td>2020-09-26 14:16:01</td>\n",
       "      <td>loadgenerator-79bff5bd57-lf2r8.16385b08d89b2303</td>\n",
       "      <td>loadgenerator</td>\n",
       "      <td>Created</td>\n",
       "    </tr>\n",
       "    <tr>\n",
       "      <th>f30e145a-c883-4c06-881b-f1d6674d6219</th>\n",
       "      <td>2020-09-26 14:16:01</td>\n",
       "      <td>loadgenerator-79bff5bd57-5vstf.16385b08d8a3dbed</td>\n",
       "      <td>loadgenerator</td>\n",
       "      <td>Created</td>\n",
       "    </tr>\n",
       "    <tr>\n",
       "      <th>308d1ed1-4ce1-4b1e-812f-5f57c0fa6006</th>\n",
       "      <td>2020-09-26 14:17:00</td>\n",
       "      <td>loadgenerator-79bff5bd57-5vstf.16385b16ae01aebb</td>\n",
       "      <td>loadgenerator</td>\n",
       "      <td>Killing</td>\n",
       "    </tr>\n",
       "    <tr>\n",
       "      <th>3f9eedcd-fc67-43c2-b0f2-ab09c2c63e3d</th>\n",
       "      <td>2020-09-26 14:17:17</td>\n",
       "      <td>frontend-5fcb8cdcdc-zbpr7.16385b1a8a38d1c1</td>\n",
       "      <td>frontend</td>\n",
       "      <td>Created</td>\n",
       "    </tr>\n",
       "    <tr>\n",
       "      <th>96746f22-a337-4986-a062-7ca3cfa45d42</th>\n",
       "      <td>2020-09-26 14:18:01</td>\n",
       "      <td>loadgenerator-79bff5bd57-2ld9p.16385b24df9cd32b</td>\n",
       "      <td>loadgenerator</td>\n",
       "      <td>Created</td>\n",
       "    </tr>\n",
       "    <tr>\n",
       "      <th>1c46cef9-bbb0-4f0f-990a-d82ba870c5ce</th>\n",
       "      <td>2020-09-26 14:20:19</td>\n",
       "      <td>frontend-5fcb8cdcdc-n2g46.16385b44f3d60e66</td>\n",
       "      <td>frontend</td>\n",
       "      <td>Created</td>\n",
       "    </tr>\n",
       "    <tr>\n",
       "      <th>706c7d4f-76c5-4834-8183-8b460594eda9</th>\n",
       "      <td>2020-09-26 14:21:01</td>\n",
       "      <td>loadgenerator-79bff5bd57-2ld9p.16385b4eaf3f2314</td>\n",
       "      <td>loadgenerator</td>\n",
       "      <td>Killing</td>\n",
       "    </tr>\n",
       "    <tr>\n",
       "      <th>e290b151-d0ca-4b7c-87c5-528157543578</th>\n",
       "      <td>2020-09-26 14:22:02</td>\n",
       "      <td>loadgenerator-79bff5bd57-crpds.16385b5ce5dd590d</td>\n",
       "      <td>loadgenerator</td>\n",
       "      <td>Created</td>\n",
       "    </tr>\n",
       "  </tbody>\n",
       "</table>\n",
       "</div>"
      ],
      "text/plain": [
       "                                                    time  \\\n",
       "ba2ad388-374d-44f6-9a1b-961f0ea60200 2020-09-26 14:16:01   \n",
       "f30e145a-c883-4c06-881b-f1d6674d6219 2020-09-26 14:16:01   \n",
       "308d1ed1-4ce1-4b1e-812f-5f57c0fa6006 2020-09-26 14:17:00   \n",
       "3f9eedcd-fc67-43c2-b0f2-ab09c2c63e3d 2020-09-26 14:17:17   \n",
       "96746f22-a337-4986-a062-7ca3cfa45d42 2020-09-26 14:18:01   \n",
       "1c46cef9-bbb0-4f0f-990a-d82ba870c5ce 2020-09-26 14:20:19   \n",
       "706c7d4f-76c5-4834-8183-8b460594eda9 2020-09-26 14:21:01   \n",
       "e290b151-d0ca-4b7c-87c5-528157543578 2020-09-26 14:22:02   \n",
       "\n",
       "                                                                                 name  \\\n",
       "ba2ad388-374d-44f6-9a1b-961f0ea60200  loadgenerator-79bff5bd57-lf2r8.16385b08d89b2303   \n",
       "f30e145a-c883-4c06-881b-f1d6674d6219  loadgenerator-79bff5bd57-5vstf.16385b08d8a3dbed   \n",
       "308d1ed1-4ce1-4b1e-812f-5f57c0fa6006  loadgenerator-79bff5bd57-5vstf.16385b16ae01aebb   \n",
       "3f9eedcd-fc67-43c2-b0f2-ab09c2c63e3d       frontend-5fcb8cdcdc-zbpr7.16385b1a8a38d1c1   \n",
       "96746f22-a337-4986-a062-7ca3cfa45d42  loadgenerator-79bff5bd57-2ld9p.16385b24df9cd32b   \n",
       "1c46cef9-bbb0-4f0f-990a-d82ba870c5ce       frontend-5fcb8cdcdc-n2g46.16385b44f3d60e66   \n",
       "706c7d4f-76c5-4834-8183-8b460594eda9  loadgenerator-79bff5bd57-2ld9p.16385b4eaf3f2314   \n",
       "e290b151-d0ca-4b7c-87c5-528157543578  loadgenerator-79bff5bd57-crpds.16385b5ce5dd590d   \n",
       "\n",
       "                                            podType    event  \n",
       "ba2ad388-374d-44f6-9a1b-961f0ea60200  loadgenerator  Created  \n",
       "f30e145a-c883-4c06-881b-f1d6674d6219  loadgenerator  Created  \n",
       "308d1ed1-4ce1-4b1e-812f-5f57c0fa6006  loadgenerator  Killing  \n",
       "3f9eedcd-fc67-43c2-b0f2-ab09c2c63e3d       frontend  Created  \n",
       "96746f22-a337-4986-a062-7ca3cfa45d42  loadgenerator  Created  \n",
       "1c46cef9-bbb0-4f0f-990a-d82ba870c5ce       frontend  Created  \n",
       "706c7d4f-76c5-4834-8183-8b460594eda9  loadgenerator  Killing  \n",
       "e290b151-d0ca-4b7c-87c5-528157543578  loadgenerator  Created  "
      ]
     },
     "execution_count": 22,
     "metadata": {},
     "output_type": "execute_result"
    }
   ],
   "source": [
    "trace.head(8)"
   ]
  },
  {
   "cell_type": "code",
   "execution_count": 23,
   "metadata": {
    "collapsed": true
   },
   "outputs": [],
   "source": [
    "# first event: there 1, 1\n",
    "# ba2ad388-374d-44f6-9a1b-961f0ea60200 \t2020-09-26 14:16:01 \tloadgenerator-79bff5bd57-lf2r8.16385b08d89b2303 \tloadgenerator \tCreated"
   ]
  },
  {
   "cell_type": "code",
   "execution_count": 24,
   "metadata": {},
   "outputs": [
    {
     "data": {
      "image/png": "[encoded data removed]",
      "text/plain": [
       "<matplotlib.figure.Figure at 0x7ff1d75d4828>"
      ]
     },
     "metadata": {},
     "output_type": "display_data"
    }
   ],
   "source": [
    "plt.scatter(matrix['nrLoadgenerators'], matrix['nrFrontends'])\n",
    "plt.show()"
   ]
  },
  {
   "cell_type": "code",
   "execution_count": 25,
   "metadata": {},
   "outputs": [
    {
     "data": {
      "text/plain": [
       "count    762.000000\n",
       "mean       3.692913\n",
       "std        1.017677\n",
       "min        1.000000\n",
       "25%        3.000000\n",
       "50%        4.000000\n",
       "75%        4.000000\n",
       "max        6.000000\n",
       "Name: nrFrontends, dtype: float64"
      ]
     },
     "execution_count": 25,
     "metadata": {},
     "output_type": "execute_result"
    }
   ],
   "source": [
    "matrix['nrFrontends'].describe()"
   ]
  },
  {
   "cell_type": "code",
   "execution_count": 26,
   "metadata": {},
   "outputs": [
    {
     "data": {
      "text/plain": [
       "count    762.000000\n",
       "mean       4.360892\n",
       "std        1.529283\n",
       "min        1.000000\n",
       "25%        3.000000\n",
       "50%        4.000000\n",
       "75%        5.000000\n",
       "max        9.000000\n",
       "Name: nrLoadgenerators, dtype: float64"
      ]
     },
     "execution_count": 26,
     "metadata": {},
     "output_type": "execute_result"
    }
   ],
   "source": [
    "matrix['nrLoadgenerators'].describe()"
   ]
  },
  {
   "cell_type": "code",
   "execution_count": 27,
   "metadata": {},
   "outputs": [
    {
     "data": {
      "image/png": "[encoded data removed]",
      "text/plain": [
       "<matplotlib.figure.Figure at 0x7ff1d72c4be0>"
      ]
     },
     "metadata": {},
     "output_type": "display_data"
    }
   ],
   "source": [
    "matrix.boxplot()\n",
    "plt.show()"
   ]
  },
  {
   "cell_type": "code",
   "execution_count": 28,
   "metadata": {},
   "outputs": [
    {
     "data": {
      "image/png": "[encoded data removed]",
      "text/plain": [
       "<matplotlib.figure.Figure at 0x7ff1d7246748>"
      ]
     },
     "metadata": {},
     "output_type": "display_data"
    }
   ],
   "source": [
    "matrix.boxplot(column='nrLoadgenerators',by='nrFrontends')\n",
    "plt.show()"
   ]
  },
  {
   "cell_type": "code",
   "execution_count": null,
   "metadata": {},
   "outputs": [],
   "source": [
    "trace.tail(10)"
   ]
  },
  {
   "cell_type": "code",
   "execution_count": 32,
   "metadata": {
    "collapsed": true
   },
   "outputs": [],
   "source": [
    "# Correlation\n",
    "import scipy.signal as ss\n",
    "\n",
    "def ccf(x, y, lag_max = 100):\n",
    "\n",
    "    result = ss.correlate(y - np.mean(y), x - np.mean(x), method='direct') / (np.std(y) * np.std(x) * len(y))\n",
    "    length = (len(result) - 1) // 2\n",
    "    lo = length - lag_max\n",
    "    hi = length + (lag_max + 1)\n",
    "\n",
    "    return result[lo:hi]\n"
   ]
  },
  {
   "cell_type": "code",
   "execution_count": 41,
   "metadata": {},
   "outputs": [
    {
     "name": "stdout",
     "output_type": "stream",
     "text": [
      "0.729049884472\n",
      "97\n"
     ]
    },
    {
     "data": {
      "image/png": "[encoded data removed]",
      "text/plain": [
       "<matplotlib.figure.Figure at 0x7ff1bdf8ff28>"
      ]
     },
     "metadata": {},
     "output_type": "display_data"
    }
   ],
   "source": [
    "c = ccf(matrix['nrFrontends'], matrix['nrLoadgenerators'])\n",
    "print(np.max(c))\n",
    "print(np.argmax(c))\n",
    "plt.plot(c)\n",
    "plt.show()"
   ]
  },
  {
   "cell_type": "code",
   "execution_count": null,
   "metadata": {},
   "outputs": [],
   "source": []
  },
  {
   "cell_type": "code",
   "execution_count": 50,
   "metadata": {},
   "outputs": [
    {
     "data": {
      "text/html": [
       "<div>\n",
       "<style>\n",
       "    .dataframe thead tr:only-child th {\n",
       "        text-align: right;\n",
       "    }\n",
       "\n",
       "    .dataframe thead th {\n",
       "        text-align: left;\n",
       "    }\n",
       "\n",
       "    .dataframe tbody tr th {\n",
       "        vertical-align: top;\n",
       "    }\n",
       "</style>\n",
       "<table border=\"1\" class=\"dataframe\">\n",
       "  <thead>\n",
       "    <tr style=\"text-align: right;\">\n",
       "      <th></th>\n",
       "      <th>nrLoadgenerators</th>\n",
       "      <th>nrFrontends</th>\n",
       "    </tr>\n",
       "    <tr>\n",
       "      <th>time</th>\n",
       "      <th></th>\n",
       "      <th></th>\n",
       "    </tr>\n",
       "  </thead>\n",
       "  <tbody>\n",
       "    <tr>\n",
       "      <th>2020-09-26 14:15:01</th>\n",
       "      <td>1</td>\n",
       "      <td>1</td>\n",
       "    </tr>\n",
       "    <tr>\n",
       "      <th>2020-09-26 14:16:01</th>\n",
       "      <td>1</td>\n",
       "      <td>1</td>\n",
       "    </tr>\n",
       "    <tr>\n",
       "      <th>2020-09-26 14:17:01</th>\n",
       "      <td>3</td>\n",
       "      <td>1</td>\n",
       "    </tr>\n",
       "    <tr>\n",
       "      <th>2020-09-26 14:18:01</th>\n",
       "      <td>2</td>\n",
       "      <td>1</td>\n",
       "    </tr>\n",
       "    <tr>\n",
       "      <th>2020-09-26 14:19:01</th>\n",
       "      <td>3</td>\n",
       "      <td>2</td>\n",
       "    </tr>\n",
       "  </tbody>\n",
       "</table>\n",
       "</div>"
      ],
      "text/plain": [
       "                     nrLoadgenerators  nrFrontends\n",
       "time                                              \n",
       "2020-09-26 14:15:01                 1            1\n",
       "2020-09-26 14:16:01                 1            1\n",
       "2020-09-26 14:17:01                 3            1\n",
       "2020-09-26 14:18:01                 2            1\n",
       "2020-09-26 14:19:01                 3            2"
      ]
     },
     "execution_count": 50,
     "metadata": {},
     "output_type": "execute_result"
    }
   ],
   "source": [
    "matrix = matrix.set_index('time')\n",
    "matrix.head()"
   ]
  },
  {
   "cell_type": "code",
   "execution_count": 56,
   "metadata": {},
   "outputs": [
    {
     "data": {
      "text/html": [
       "<div>\n",
       "<style>\n",
       "    .dataframe thead tr:only-child th {\n",
       "        text-align: right;\n",
       "    }\n",
       "\n",
       "    .dataframe thead th {\n",
       "        text-align: left;\n",
       "    }\n",
       "\n",
       "    .dataframe tbody tr th {\n",
       "        vertical-align: top;\n",
       "    }\n",
       "</style>\n",
       "<table border=\"1\" class=\"dataframe\">\n",
       "  <thead>\n",
       "    <tr style=\"text-align: right;\">\n",
       "      <th></th>\n",
       "      <th>nrLoadgenerators</th>\n",
       "      <th>nrFrontends</th>\n",
       "    </tr>\n",
       "    <tr>\n",
       "      <th>time</th>\n",
       "      <th></th>\n",
       "      <th></th>\n",
       "    </tr>\n",
       "  </thead>\n",
       "  <tbody>\n",
       "    <tr>\n",
       "      <th>2020-09-27 02:52:01</th>\n",
       "      <td>3.0</td>\n",
       "      <td>3.0</td>\n",
       "    </tr>\n",
       "    <tr>\n",
       "      <th>2020-09-27 02:53:01</th>\n",
       "      <td>3.0</td>\n",
       "      <td>3.0</td>\n",
       "    </tr>\n",
       "    <tr>\n",
       "      <th>2020-09-27 02:54:01</th>\n",
       "      <td>3.0</td>\n",
       "      <td>2.0</td>\n",
       "    </tr>\n",
       "    <tr>\n",
       "      <th>2020-09-27 02:55:01</th>\n",
       "      <td>3.0</td>\n",
       "      <td>2.0</td>\n",
       "    </tr>\n",
       "    <tr>\n",
       "      <th>2020-09-27 02:56:01</th>\n",
       "      <td>NaN</td>\n",
       "      <td>NaN</td>\n",
       "    </tr>\n",
       "  </tbody>\n",
       "</table>\n",
       "</div>"
      ],
      "text/plain": [
       "                     nrLoadgenerators  nrFrontends\n",
       "time                                              \n",
       "2020-09-27 02:52:01               3.0          3.0\n",
       "2020-09-27 02:53:01               3.0          3.0\n",
       "2020-09-27 02:54:01               3.0          2.0\n",
       "2020-09-27 02:55:01               3.0          2.0\n",
       "2020-09-27 02:56:01               NaN          NaN"
      ]
     },
     "execution_count": 56,
     "metadata": {},
     "output_type": "execute_result"
    }
   ],
   "source": [
    "matrix.shift(periods=-1).tail()"
   ]
  },
  {
   "cell_type": "code",
   "execution_count": 167,
   "metadata": {},
   "outputs": [],
   "source": [
    "lagged = []\n",
    "for i in range(1, 6):\n",
    "    matrix_1 = matrix.shift(periods=i)\n",
    "    #matrix_1['nrFrontends'] = matrix_1['nrFrontends'].astype(int)\n",
    "    #matrix_1['nrLoadgenerators'] = matrix_1['nrLoadgenerators'].astype(int)\n",
    "    matrix_1.columns = ['nrFrontends_' + str(i), 'nrLoadgenerators_' + str(i)]\n",
    "    #print(matrix_1.head())\n",
    "    lagged.append(matrix_1)\n",
    "lagged.insert(0, matrix)\n",
    "features = pd.concat(lagged, axis=1)"
   ]
  },
  {
   "cell_type": "code",
   "execution_count": 168,
   "metadata": {
    "collapsed": true
   },
   "outputs": [],
   "source": [
    "features['frontendChange'] = features['nrFrontends'] - features['nrFrontends_1']\n",
    "features['loadChange'] = features['nrLoadgenerators'] - features['nrLoadgenerators_1']"
   ]
  },
  {
   "cell_type": "code",
   "execution_count": 169,
   "metadata": {},
   "outputs": [
    {
     "data": {
      "text/plain": [
       "Index(['nrLoadgenerators', 'nrFrontends', 'nrFrontends_1',\n",
       "       'nrLoadgenerators_1', 'nrFrontends_2', 'nrLoadgenerators_2',\n",
       "       'nrFrontends_3', 'nrLoadgenerators_3', 'nrFrontends_4',\n",
       "       'nrLoadgenerators_4', 'nrFrontends_5', 'nrLoadgenerators_5',\n",
       "       'frontendChange', 'loadChange'],\n",
       "      dtype='object')"
      ]
     },
     "execution_count": 169,
     "metadata": {},
     "output_type": "execute_result"
    }
   ],
   "source": [
    "features.columns"
   ]
  },
  {
   "cell_type": "code",
   "execution_count": null,
   "metadata": {},
   "outputs": [],
   "source": []
  },
  {
   "cell_type": "code",
   "execution_count": 170,
   "metadata": {},
   "outputs": [],
   "source": [
    "features['decF'] = features['nrFrontends'] < features['nrFrontends_1']\n",
    "features['incF'] = features['nrFrontends'] > features['nrFrontends_1']\n",
    "features['decL'] = features['nrLoadgenerators'] < features['nrLoadgenerators_1']\n",
    "features['incL'] = features['nrLoadgenerators'] > features['nrLoadgenerators_1']\n",
    "\n",
    "features['lastIncF'] = datetime.timedelta(0)\n",
    "features['lastDecF'] = datetime.timedelta(0)\n",
    "features['lastIncL'] = datetime.timedelta(0)\n",
    "features['lastDecL'] = datetime.timedelta(0)\n",
    "\n",
    "lastIncF = features.index[0]\n",
    "lastDecF = features.index[0]\n",
    "lastIncL = features.index[0]\n",
    "lastDecL = features.index[0]\n",
    "for index, row in features.iterrows():\n",
    "    if(row['incF']):\n",
    "        lastIncF = index\n",
    "    if(row['decF']):\n",
    "        lastDecF = index\n",
    "    if(row['incL']):\n",
    "        lastIncL = index\n",
    "    if(row['decL']):\n",
    "        lastIncL = index\n",
    "    features.at[index, 'lastIncF'] = index - lastIncF\n",
    "    features.at[index, 'lastIncL'] = index - lastIncL\n",
    "    features.at[index, 'lastDecF'] = index - lastDecF\n",
    "    features.at[index, 'lastDecL'] = index - lastDecL\n",
    "\n",
    "\n",
    "        \n",
    "\n"
   ]
  },
  {
   "cell_type": "code",
   "execution_count": 171,
   "metadata": {},
   "outputs": [
    {
     "data": {
      "text/html": [
       "<div>\n",
       "<style>\n",
       "    .dataframe thead tr:only-child th {\n",
       "        text-align: right;\n",
       "    }\n",
       "\n",
       "    .dataframe thead th {\n",
       "        text-align: left;\n",
       "    }\n",
       "\n",
       "    .dataframe tbody tr th {\n",
       "        vertical-align: top;\n",
       "    }\n",
       "</style>\n",
       "<table border=\"1\" class=\"dataframe\">\n",
       "  <thead>\n",
       "    <tr style=\"text-align: right;\">\n",
       "      <th></th>\n",
       "      <th>nrLoadgenerators</th>\n",
       "      <th>nrFrontends</th>\n",
       "      <th>nrFrontends_1</th>\n",
       "      <th>nrLoadgenerators_1</th>\n",
       "      <th>nrFrontends_2</th>\n",
       "      <th>nrLoadgenerators_2</th>\n",
       "      <th>nrFrontends_3</th>\n",
       "      <th>nrLoadgenerators_3</th>\n",
       "      <th>nrFrontends_4</th>\n",
       "      <th>nrLoadgenerators_4</th>\n",
       "      <th>...</th>\n",
       "      <th>frontendChange</th>\n",
       "      <th>loadChange</th>\n",
       "      <th>decF</th>\n",
       "      <th>incF</th>\n",
       "      <th>decL</th>\n",
       "      <th>incL</th>\n",
       "      <th>lastIncF</th>\n",
       "      <th>lastDecF</th>\n",
       "      <th>lastIncL</th>\n",
       "      <th>lastDecL</th>\n",
       "    </tr>\n",
       "    <tr>\n",
       "      <th>time</th>\n",
       "      <th></th>\n",
       "      <th></th>\n",
       "      <th></th>\n",
       "      <th></th>\n",
       "      <th></th>\n",
       "      <th></th>\n",
       "      <th></th>\n",
       "      <th></th>\n",
       "      <th></th>\n",
       "      <th></th>\n",
       "      <th></th>\n",
       "      <th></th>\n",
       "      <th></th>\n",
       "      <th></th>\n",
       "      <th></th>\n",
       "      <th></th>\n",
       "      <th></th>\n",
       "      <th></th>\n",
       "      <th></th>\n",
       "      <th></th>\n",
       "      <th></th>\n",
       "    </tr>\n",
       "  </thead>\n",
       "  <tbody>\n",
       "    <tr>\n",
       "      <th>2020-09-26 14:15:01</th>\n",
       "      <td>1</td>\n",
       "      <td>1</td>\n",
       "      <td>NaN</td>\n",
       "      <td>NaN</td>\n",
       "      <td>NaN</td>\n",
       "      <td>NaN</td>\n",
       "      <td>NaN</td>\n",
       "      <td>NaN</td>\n",
       "      <td>NaN</td>\n",
       "      <td>NaN</td>\n",
       "      <td>...</td>\n",
       "      <td>NaN</td>\n",
       "      <td>NaN</td>\n",
       "      <td>False</td>\n",
       "      <td>False</td>\n",
       "      <td>False</td>\n",
       "      <td>False</td>\n",
       "      <td>00:00:00</td>\n",
       "      <td>00:00:00</td>\n",
       "      <td>00:00:00</td>\n",
       "      <td>00:00:00</td>\n",
       "    </tr>\n",
       "    <tr>\n",
       "      <th>2020-09-26 14:16:01</th>\n",
       "      <td>1</td>\n",
       "      <td>1</td>\n",
       "      <td>1.0</td>\n",
       "      <td>1.0</td>\n",
       "      <td>NaN</td>\n",
       "      <td>NaN</td>\n",
       "      <td>NaN</td>\n",
       "      <td>NaN</td>\n",
       "      <td>NaN</td>\n",
       "      <td>NaN</td>\n",
       "      <td>...</td>\n",
       "      <td>0.0</td>\n",
       "      <td>0.0</td>\n",
       "      <td>False</td>\n",
       "      <td>False</td>\n",
       "      <td>False</td>\n",
       "      <td>False</td>\n",
       "      <td>00:01:00</td>\n",
       "      <td>00:01:00</td>\n",
       "      <td>00:01:00</td>\n",
       "      <td>00:01:00</td>\n",
       "    </tr>\n",
       "    <tr>\n",
       "      <th>2020-09-26 14:17:01</th>\n",
       "      <td>3</td>\n",
       "      <td>1</td>\n",
       "      <td>1.0</td>\n",
       "      <td>1.0</td>\n",
       "      <td>1.0</td>\n",
       "      <td>1.0</td>\n",
       "      <td>NaN</td>\n",
       "      <td>NaN</td>\n",
       "      <td>NaN</td>\n",
       "      <td>NaN</td>\n",
       "      <td>...</td>\n",
       "      <td>0.0</td>\n",
       "      <td>2.0</td>\n",
       "      <td>False</td>\n",
       "      <td>False</td>\n",
       "      <td>False</td>\n",
       "      <td>True</td>\n",
       "      <td>00:02:00</td>\n",
       "      <td>00:02:00</td>\n",
       "      <td>00:00:00</td>\n",
       "      <td>00:02:00</td>\n",
       "    </tr>\n",
       "    <tr>\n",
       "      <th>2020-09-26 14:18:01</th>\n",
       "      <td>2</td>\n",
       "      <td>1</td>\n",
       "      <td>3.0</td>\n",
       "      <td>1.0</td>\n",
       "      <td>1.0</td>\n",
       "      <td>1.0</td>\n",
       "      <td>1.0</td>\n",
       "      <td>1.0</td>\n",
       "      <td>NaN</td>\n",
       "      <td>NaN</td>\n",
       "      <td>...</td>\n",
       "      <td>-2.0</td>\n",
       "      <td>1.0</td>\n",
       "      <td>True</td>\n",
       "      <td>False</td>\n",
       "      <td>False</td>\n",
       "      <td>True</td>\n",
       "      <td>00:03:00</td>\n",
       "      <td>00:00:00</td>\n",
       "      <td>00:00:00</td>\n",
       "      <td>00:03:00</td>\n",
       "    </tr>\n",
       "    <tr>\n",
       "      <th>2020-09-26 14:19:01</th>\n",
       "      <td>3</td>\n",
       "      <td>2</td>\n",
       "      <td>2.0</td>\n",
       "      <td>1.0</td>\n",
       "      <td>3.0</td>\n",
       "      <td>1.0</td>\n",
       "      <td>1.0</td>\n",
       "      <td>1.0</td>\n",
       "      <td>1.0</td>\n",
       "      <td>1.0</td>\n",
       "      <td>...</td>\n",
       "      <td>0.0</td>\n",
       "      <td>2.0</td>\n",
       "      <td>False</td>\n",
       "      <td>False</td>\n",
       "      <td>False</td>\n",
       "      <td>True</td>\n",
       "      <td>00:04:00</td>\n",
       "      <td>00:01:00</td>\n",
       "      <td>00:00:00</td>\n",
       "      <td>00:04:00</td>\n",
       "    </tr>\n",
       "  </tbody>\n",
       "</table>\n",
       "<p>5 rows × 22 columns</p>\n",
       "</div>"
      ],
      "text/plain": [
       "                     nrLoadgenerators  nrFrontends  nrFrontends_1  \\\n",
       "time                                                                \n",
       "2020-09-26 14:15:01                 1            1            NaN   \n",
       "2020-09-26 14:16:01                 1            1            1.0   \n",
       "2020-09-26 14:17:01                 3            1            1.0   \n",
       "2020-09-26 14:18:01                 2            1            3.0   \n",
       "2020-09-26 14:19:01                 3            2            2.0   \n",
       "\n",
       "                     nrLoadgenerators_1  nrFrontends_2  nrLoadgenerators_2  \\\n",
       "time                                                                         \n",
       "2020-09-26 14:15:01                 NaN            NaN                 NaN   \n",
       "2020-09-26 14:16:01                 1.0            NaN                 NaN   \n",
       "2020-09-26 14:17:01                 1.0            1.0                 1.0   \n",
       "2020-09-26 14:18:01                 1.0            1.0                 1.0   \n",
       "2020-09-26 14:19:01                 1.0            3.0                 1.0   \n",
       "\n",
       "                     nrFrontends_3  nrLoadgenerators_3  nrFrontends_4  \\\n",
       "time                                                                    \n",
       "2020-09-26 14:15:01            NaN                 NaN            NaN   \n",
       "2020-09-26 14:16:01            NaN                 NaN            NaN   \n",
       "2020-09-26 14:17:01            NaN                 NaN            NaN   \n",
       "2020-09-26 14:18:01            1.0                 1.0            NaN   \n",
       "2020-09-26 14:19:01            1.0                 1.0            1.0   \n",
       "\n",
       "                     nrLoadgenerators_4   ...     frontendChange  loadChange  \\\n",
       "time                                      ...                                  \n",
       "2020-09-26 14:15:01                 NaN   ...                NaN         NaN   \n",
       "2020-09-26 14:16:01                 NaN   ...                0.0         0.0   \n",
       "2020-09-26 14:17:01                 NaN   ...                0.0         2.0   \n",
       "2020-09-26 14:18:01                 NaN   ...               -2.0         1.0   \n",
       "2020-09-26 14:19:01                 1.0   ...                0.0         2.0   \n",
       "\n",
       "                      decF   incF   decL   incL  lastIncF  lastDecF lastIncL  \\\n",
       "time                                                                           \n",
       "2020-09-26 14:15:01  False  False  False  False  00:00:00  00:00:00 00:00:00   \n",
       "2020-09-26 14:16:01  False  False  False  False  00:01:00  00:01:00 00:01:00   \n",
       "2020-09-26 14:17:01  False  False  False   True  00:02:00  00:02:00 00:00:00   \n",
       "2020-09-26 14:18:01   True  False  False   True  00:03:00  00:00:00 00:00:00   \n",
       "2020-09-26 14:19:01  False  False  False   True  00:04:00  00:01:00 00:00:00   \n",
       "\n",
       "                    lastDecL  \n",
       "time                          \n",
       "2020-09-26 14:15:01 00:00:00  \n",
       "2020-09-26 14:16:01 00:01:00  \n",
       "2020-09-26 14:17:01 00:02:00  \n",
       "2020-09-26 14:18:01 00:03:00  \n",
       "2020-09-26 14:19:01 00:04:00  \n",
       "\n",
       "[5 rows x 22 columns]"
      ]
     },
     "execution_count": 171,
     "metadata": {},
     "output_type": "execute_result"
    }
   ],
   "source": [
    "features.head()"
   ]
  },
  {
   "cell_type": "code",
   "execution_count": 172,
   "metadata": {},
   "outputs": [
    {
     "data": {
      "text/html": [
       "<div>\n",
       "<style>\n",
       "    .dataframe thead tr:only-child th {\n",
       "        text-align: right;\n",
       "    }\n",
       "\n",
       "    .dataframe thead th {\n",
       "        text-align: left;\n",
       "    }\n",
       "\n",
       "    .dataframe tbody tr th {\n",
       "        vertical-align: top;\n",
       "    }\n",
       "</style>\n",
       "<table border=\"1\" class=\"dataframe\">\n",
       "  <thead>\n",
       "    <tr style=\"text-align: right;\">\n",
       "      <th></th>\n",
       "      <th>nrLoadgenerators</th>\n",
       "      <th>nrFrontends</th>\n",
       "      <th>nrFrontends_1</th>\n",
       "      <th>nrLoadgenerators_1</th>\n",
       "      <th>nrFrontends_2</th>\n",
       "      <th>nrLoadgenerators_2</th>\n",
       "      <th>nrFrontends_3</th>\n",
       "      <th>nrLoadgenerators_3</th>\n",
       "      <th>nrFrontends_4</th>\n",
       "      <th>nrLoadgenerators_4</th>\n",
       "      <th>nrFrontends_5</th>\n",
       "      <th>nrLoadgenerators_5</th>\n",
       "      <th>frontendChange</th>\n",
       "      <th>loadChange</th>\n",
       "      <th>decF</th>\n",
       "      <th>incF</th>\n",
       "      <th>decL</th>\n",
       "      <th>incL</th>\n",
       "    </tr>\n",
       "  </thead>\n",
       "  <tbody>\n",
       "    <tr>\n",
       "      <th>nrLoadgenerators</th>\n",
       "      <td>1.000000</td>\n",
       "      <td>0.544699</td>\n",
       "      <td>0.734044</td>\n",
       "      <td>0.452188</td>\n",
       "      <td>0.652868</td>\n",
       "      <td>0.358558</td>\n",
       "      <td>0.561857</td>\n",
       "      <td>0.280360</td>\n",
       "      <td>0.464147</td>\n",
       "      <td>0.212965</td>\n",
       "      <td>0.417337</td>\n",
       "      <td>0.137588</td>\n",
       "      <td>-0.485796</td>\n",
       "      <td>0.721674</td>\n",
       "      <td>0.381383</td>\n",
       "      <td>-0.204064</td>\n",
       "      <td>-0.385182</td>\n",
       "      <td>0.619740</td>\n",
       "    </tr>\n",
       "    <tr>\n",
       "      <th>nrFrontends</th>\n",
       "      <td>0.544699</td>\n",
       "      <td>1.000000</td>\n",
       "      <td>0.643192</td>\n",
       "      <td>0.908129</td>\n",
       "      <td>0.717323</td>\n",
       "      <td>0.809448</td>\n",
       "      <td>0.730550</td>\n",
       "      <td>0.702128</td>\n",
       "      <td>0.733879</td>\n",
       "      <td>0.592326</td>\n",
       "      <td>0.710455</td>\n",
       "      <td>0.475865</td>\n",
       "      <td>0.004276</td>\n",
       "      <td>-0.084133</td>\n",
       "      <td>-0.045228</td>\n",
       "      <td>0.231614</td>\n",
       "      <td>0.254632</td>\n",
       "      <td>-0.084706</td>\n",
       "    </tr>\n",
       "    <tr>\n",
       "      <th>nrFrontends_1</th>\n",
       "      <td>0.734044</td>\n",
       "      <td>0.643192</td>\n",
       "      <td>1.000000</td>\n",
       "      <td>0.543737</td>\n",
       "      <td>0.733735</td>\n",
       "      <td>0.450914</td>\n",
       "      <td>0.652454</td>\n",
       "      <td>0.357839</td>\n",
       "      <td>0.561274</td>\n",
       "      <td>0.279499</td>\n",
       "      <td>0.463352</td>\n",
       "      <td>0.211983</td>\n",
       "      <td>-0.725475</td>\n",
       "      <td>0.382206</td>\n",
       "      <td>0.607200</td>\n",
       "      <td>-0.354677</td>\n",
       "      <td>-0.163571</td>\n",
       "      <td>0.298652</td>\n",
       "    </tr>\n",
       "    <tr>\n",
       "      <th>nrLoadgenerators_1</th>\n",
       "      <td>0.452188</td>\n",
       "      <td>0.908129</td>\n",
       "      <td>0.543737</td>\n",
       "      <td>1.000000</td>\n",
       "      <td>0.642526</td>\n",
       "      <td>0.907790</td>\n",
       "      <td>0.716880</td>\n",
       "      <td>0.809566</td>\n",
       "      <td>0.730156</td>\n",
       "      <td>0.702004</td>\n",
       "      <td>0.733493</td>\n",
       "      <td>0.591951</td>\n",
       "      <td>0.070555</td>\n",
       "      <td>-0.241248</td>\n",
       "      <td>-0.091378</td>\n",
       "      <td>0.241328</td>\n",
       "      <td>0.364192</td>\n",
       "      <td>-0.204705</td>\n",
       "    </tr>\n",
       "    <tr>\n",
       "      <th>nrFrontends_2</th>\n",
       "      <td>0.652868</td>\n",
       "      <td>0.717323</td>\n",
       "      <td>0.733735</td>\n",
       "      <td>0.642526</td>\n",
       "      <td>1.000000</td>\n",
       "      <td>0.542769</td>\n",
       "      <td>0.733425</td>\n",
       "      <td>0.450319</td>\n",
       "      <td>0.652036</td>\n",
       "      <td>0.357117</td>\n",
       "      <td>0.560687</td>\n",
       "      <td>0.278634</td>\n",
       "      <td>-0.334786</td>\n",
       "      <td>0.227824</td>\n",
       "      <td>0.239424</td>\n",
       "      <td>-0.116630</td>\n",
       "      <td>-0.058265</td>\n",
       "      <td>0.161705</td>\n",
       "    </tr>\n",
       "    <tr>\n",
       "      <th>nrLoadgenerators_2</th>\n",
       "      <td>0.358558</td>\n",
       "      <td>0.809448</td>\n",
       "      <td>0.450914</td>\n",
       "      <td>0.907790</td>\n",
       "      <td>0.542769</td>\n",
       "      <td>1.000000</td>\n",
       "      <td>0.641855</td>\n",
       "      <td>0.908125</td>\n",
       "      <td>0.716433</td>\n",
       "      <td>0.809682</td>\n",
       "      <td>0.729760</td>\n",
       "      <td>0.701877</td>\n",
       "      <td>0.110888</td>\n",
       "      <td>-0.282916</td>\n",
       "      <td>-0.118028</td>\n",
       "      <td>0.227773</td>\n",
       "      <td>0.358550</td>\n",
       "      <td>-0.244933</td>\n",
       "    </tr>\n",
       "    <tr>\n",
       "      <th>nrFrontends_3</th>\n",
       "      <td>0.561857</td>\n",
       "      <td>0.730550</td>\n",
       "      <td>0.652454</td>\n",
       "      <td>0.716880</td>\n",
       "      <td>0.733425</td>\n",
       "      <td>0.641855</td>\n",
       "      <td>1.000000</td>\n",
       "      <td>0.542339</td>\n",
       "      <td>0.733112</td>\n",
       "      <td>0.449721</td>\n",
       "      <td>0.651617</td>\n",
       "      <td>0.356391</td>\n",
       "      <td>-0.210888</td>\n",
       "      <td>0.077341</td>\n",
       "      <td>0.121493</td>\n",
       "      <td>-0.043999</td>\n",
       "      <td>0.011212</td>\n",
       "      <td>0.030630</td>\n",
       "    </tr>\n",
       "    <tr>\n",
       "      <th>nrLoadgenerators_3</th>\n",
       "      <td>0.280360</td>\n",
       "      <td>0.702128</td>\n",
       "      <td>0.357839</td>\n",
       "      <td>0.809566</td>\n",
       "      <td>0.450319</td>\n",
       "      <td>0.908125</td>\n",
       "      <td>0.542339</td>\n",
       "      <td>1.000000</td>\n",
       "      <td>0.641567</td>\n",
       "      <td>0.908059</td>\n",
       "      <td>0.716254</td>\n",
       "      <td>0.809532</td>\n",
       "      <td>0.149417</td>\n",
       "      <td>-0.303607</td>\n",
       "      <td>-0.151559</td>\n",
       "      <td>0.209205</td>\n",
       "      <td>0.341701</td>\n",
       "      <td>-0.256623</td>\n",
       "    </tr>\n",
       "    <tr>\n",
       "      <th>nrFrontends_4</th>\n",
       "      <td>0.464147</td>\n",
       "      <td>0.733879</td>\n",
       "      <td>0.561274</td>\n",
       "      <td>0.730156</td>\n",
       "      <td>0.652036</td>\n",
       "      <td>0.716433</td>\n",
       "      <td>0.733112</td>\n",
       "      <td>0.641567</td>\n",
       "      <td>1.000000</td>\n",
       "      <td>0.541906</td>\n",
       "      <td>0.732798</td>\n",
       "      <td>0.449119</td>\n",
       "      <td>-0.094638</td>\n",
       "      <td>-0.036107</td>\n",
       "      <td>0.028881</td>\n",
       "      <td>0.014515</td>\n",
       "      <td>0.101245</td>\n",
       "      <td>-0.041202</td>\n",
       "    </tr>\n",
       "    <tr>\n",
       "      <th>nrLoadgenerators_4</th>\n",
       "      <td>0.212965</td>\n",
       "      <td>0.592326</td>\n",
       "      <td>0.279499</td>\n",
       "      <td>0.702004</td>\n",
       "      <td>0.357117</td>\n",
       "      <td>0.809682</td>\n",
       "      <td>0.449721</td>\n",
       "      <td>0.908059</td>\n",
       "      <td>0.541906</td>\n",
       "      <td>1.000000</td>\n",
       "      <td>0.641277</td>\n",
       "      <td>0.907993</td>\n",
       "      <td>0.166667</td>\n",
       "      <td>-0.304906</td>\n",
       "      <td>-0.157376</td>\n",
       "      <td>0.185904</td>\n",
       "      <td>0.328883</td>\n",
       "      <td>-0.243753</td>\n",
       "    </tr>\n",
       "    <tr>\n",
       "      <th>nrFrontends_5</th>\n",
       "      <td>0.417337</td>\n",
       "      <td>0.710455</td>\n",
       "      <td>0.463352</td>\n",
       "      <td>0.733493</td>\n",
       "      <td>0.560687</td>\n",
       "      <td>0.729760</td>\n",
       "      <td>0.651617</td>\n",
       "      <td>0.716254</td>\n",
       "      <td>0.732798</td>\n",
       "      <td>0.641277</td>\n",
       "      <td>1.000000</td>\n",
       "      <td>0.541471</td>\n",
       "      <td>0.026838</td>\n",
       "      <td>-0.097255</td>\n",
       "      <td>-0.063760</td>\n",
       "      <td>0.102337</td>\n",
       "      <td>0.142628</td>\n",
       "      <td>-0.080017</td>\n",
       "    </tr>\n",
       "    <tr>\n",
       "      <th>nrLoadgenerators_5</th>\n",
       "      <td>0.137588</td>\n",
       "      <td>0.475865</td>\n",
       "      <td>0.211983</td>\n",
       "      <td>0.591951</td>\n",
       "      <td>0.278634</td>\n",
       "      <td>0.701877</td>\n",
       "      <td>0.356391</td>\n",
       "      <td>0.809532</td>\n",
       "      <td>0.449119</td>\n",
       "      <td>0.907993</td>\n",
       "      <td>0.541471</td>\n",
       "      <td>1.000000</td>\n",
       "      <td>0.164238</td>\n",
       "      <td>-0.312913</td>\n",
       "      <td>-0.139330</td>\n",
       "      <td>0.161666</td>\n",
       "      <td>0.312478</td>\n",
       "      <td>-0.256102</td>\n",
       "    </tr>\n",
       "    <tr>\n",
       "      <th>frontendChange</th>\n",
       "      <td>-0.485796</td>\n",
       "      <td>0.004276</td>\n",
       "      <td>-0.725475</td>\n",
       "      <td>0.070555</td>\n",
       "      <td>-0.334786</td>\n",
       "      <td>0.110888</td>\n",
       "      <td>-0.210888</td>\n",
       "      <td>0.149417</td>\n",
       "      <td>-0.094638</td>\n",
       "      <td>0.166667</td>\n",
       "      <td>0.026838</td>\n",
       "      <td>0.164238</td>\n",
       "      <td>1.000000</td>\n",
       "      <td>-0.602795</td>\n",
       "      <td>-0.898734</td>\n",
       "      <td>0.593096</td>\n",
       "      <td>0.426149</td>\n",
       "      <td>-0.497068</td>\n",
       "    </tr>\n",
       "    <tr>\n",
       "      <th>loadChange</th>\n",
       "      <td>0.721674</td>\n",
       "      <td>-0.084133</td>\n",
       "      <td>0.382206</td>\n",
       "      <td>-0.241248</td>\n",
       "      <td>0.227824</td>\n",
       "      <td>-0.282916</td>\n",
       "      <td>0.077341</td>\n",
       "      <td>-0.303607</td>\n",
       "      <td>-0.036107</td>\n",
       "      <td>-0.304906</td>\n",
       "      <td>-0.097255</td>\n",
       "      <td>-0.312913</td>\n",
       "      <td>-0.602795</td>\n",
       "      <td>1.000000</td>\n",
       "      <td>0.496917</td>\n",
       "      <td>-0.401503</td>\n",
       "      <td>-0.686112</td>\n",
       "      <td>0.889954</td>\n",
       "    </tr>\n",
       "    <tr>\n",
       "      <th>decF</th>\n",
       "      <td>0.381383</td>\n",
       "      <td>-0.045228</td>\n",
       "      <td>0.607200</td>\n",
       "      <td>-0.091378</td>\n",
       "      <td>0.239424</td>\n",
       "      <td>-0.118028</td>\n",
       "      <td>0.121493</td>\n",
       "      <td>-0.151559</td>\n",
       "      <td>0.028881</td>\n",
       "      <td>-0.157376</td>\n",
       "      <td>-0.063760</td>\n",
       "      <td>-0.139330</td>\n",
       "      <td>-0.898734</td>\n",
       "      <td>0.496917</td>\n",
       "      <td>1.000000</td>\n",
       "      <td>-0.403785</td>\n",
       "      <td>-0.349018</td>\n",
       "      <td>0.440196</td>\n",
       "    </tr>\n",
       "    <tr>\n",
       "      <th>incF</th>\n",
       "      <td>-0.204064</td>\n",
       "      <td>0.231614</td>\n",
       "      <td>-0.354677</td>\n",
       "      <td>0.241328</td>\n",
       "      <td>-0.116630</td>\n",
       "      <td>0.227773</td>\n",
       "      <td>-0.043999</td>\n",
       "      <td>0.209205</td>\n",
       "      <td>0.014515</td>\n",
       "      <td>0.185904</td>\n",
       "      <td>0.102337</td>\n",
       "      <td>0.161666</td>\n",
       "      <td>0.593096</td>\n",
       "      <td>-0.401503</td>\n",
       "      <td>-0.403785</td>\n",
       "      <td>1.000000</td>\n",
       "      <td>0.466075</td>\n",
       "      <td>-0.330223</td>\n",
       "    </tr>\n",
       "    <tr>\n",
       "      <th>decL</th>\n",
       "      <td>-0.385182</td>\n",
       "      <td>0.254632</td>\n",
       "      <td>-0.163571</td>\n",
       "      <td>0.364192</td>\n",
       "      <td>-0.058265</td>\n",
       "      <td>0.358550</td>\n",
       "      <td>0.011212</td>\n",
       "      <td>0.341701</td>\n",
       "      <td>0.101245</td>\n",
       "      <td>0.328883</td>\n",
       "      <td>0.142628</td>\n",
       "      <td>0.312478</td>\n",
       "      <td>0.426149</td>\n",
       "      <td>-0.686112</td>\n",
       "      <td>-0.349018</td>\n",
       "      <td>0.466075</td>\n",
       "      <td>1.000000</td>\n",
       "      <td>-0.484049</td>\n",
       "    </tr>\n",
       "    <tr>\n",
       "      <th>incL</th>\n",
       "      <td>0.619740</td>\n",
       "      <td>-0.084706</td>\n",
       "      <td>0.298652</td>\n",
       "      <td>-0.204705</td>\n",
       "      <td>0.161705</td>\n",
       "      <td>-0.244933</td>\n",
       "      <td>0.030630</td>\n",
       "      <td>-0.256623</td>\n",
       "      <td>-0.041202</td>\n",
       "      <td>-0.243753</td>\n",
       "      <td>-0.080017</td>\n",
       "      <td>-0.256102</td>\n",
       "      <td>-0.497068</td>\n",
       "      <td>0.889954</td>\n",
       "      <td>0.440196</td>\n",
       "      <td>-0.330223</td>\n",
       "      <td>-0.484049</td>\n",
       "      <td>1.000000</td>\n",
       "    </tr>\n",
       "  </tbody>\n",
       "</table>\n",
       "</div>"
      ],
      "text/plain": [
       "                    nrLoadgenerators  nrFrontends  nrFrontends_1  \\\n",
       "nrLoadgenerators            1.000000     0.544699       0.734044   \n",
       "nrFrontends                 0.544699     1.000000       0.643192   \n",
       "nrFrontends_1               0.734044     0.643192       1.000000   \n",
       "nrLoadgenerators_1          0.452188     0.908129       0.543737   \n",
       "nrFrontends_2               0.652868     0.717323       0.733735   \n",
       "nrLoadgenerators_2          0.358558     0.809448       0.450914   \n",
       "nrFrontends_3               0.561857     0.730550       0.652454   \n",
       "nrLoadgenerators_3          0.280360     0.702128       0.357839   \n",
       "nrFrontends_4               0.464147     0.733879       0.561274   \n",
       "nrLoadgenerators_4          0.212965     0.592326       0.279499   \n",
       "nrFrontends_5               0.417337     0.710455       0.463352   \n",
       "nrLoadgenerators_5          0.137588     0.475865       0.211983   \n",
       "frontendChange             -0.485796     0.004276      -0.725475   \n",
       "loadChange                  0.721674    -0.084133       0.382206   \n",
       "decF                        0.381383    -0.045228       0.607200   \n",
       "incF                       -0.204064     0.231614      -0.354677   \n",
       "decL                       -0.385182     0.254632      -0.163571   \n",
       "incL                        0.619740    -0.084706       0.298652   \n",
       "\n",
       "                    nrLoadgenerators_1  nrFrontends_2  nrLoadgenerators_2  \\\n",
       "nrLoadgenerators              0.452188       0.652868            0.358558   \n",
       "nrFrontends                   0.908129       0.717323            0.809448   \n",
       "nrFrontends_1                 0.543737       0.733735            0.450914   \n",
       "nrLoadgenerators_1            1.000000       0.642526            0.907790   \n",
       "nrFrontends_2                 0.642526       1.000000            0.542769   \n",
       "nrLoadgenerators_2            0.907790       0.542769            1.000000   \n",
       "nrFrontends_3                 0.716880       0.733425            0.641855   \n",
       "nrLoadgenerators_3            0.809566       0.450319            0.908125   \n",
       "nrFrontends_4                 0.730156       0.652036            0.716433   \n",
       "nrLoadgenerators_4            0.702004       0.357117            0.809682   \n",
       "nrFrontends_5                 0.733493       0.560687            0.729760   \n",
       "nrLoadgenerators_5            0.591951       0.278634            0.701877   \n",
       "frontendChange                0.070555      -0.334786            0.110888   \n",
       "loadChange                   -0.241248       0.227824           -0.282916   \n",
       "decF                         -0.091378       0.239424           -0.118028   \n",
       "incF                          0.241328      -0.116630            0.227773   \n",
       "decL                          0.364192      -0.058265            0.358550   \n",
       "incL                         -0.204705       0.161705           -0.244933   \n",
       "\n",
       "                    nrFrontends_3  nrLoadgenerators_3  nrFrontends_4  \\\n",
       "nrLoadgenerators         0.561857            0.280360       0.464147   \n",
       "nrFrontends              0.730550            0.702128       0.733879   \n",
       "nrFrontends_1            0.652454            0.357839       0.561274   \n",
       "nrLoadgenerators_1       0.716880            0.809566       0.730156   \n",
       "nrFrontends_2            0.733425            0.450319       0.652036   \n",
       "nrLoadgenerators_2       0.641855            0.908125       0.716433   \n",
       "nrFrontends_3            1.000000            0.542339       0.733112   \n",
       "nrLoadgenerators_3       0.542339            1.000000       0.641567   \n",
       "nrFrontends_4            0.733112            0.641567       1.000000   \n",
       "nrLoadgenerators_4       0.449721            0.908059       0.541906   \n",
       "nrFrontends_5            0.651617            0.716254       0.732798   \n",
       "nrLoadgenerators_5       0.356391            0.809532       0.449119   \n",
       "frontendChange          -0.210888            0.149417      -0.094638   \n",
       "loadChange               0.077341           -0.303607      -0.036107   \n",
       "decF                     0.121493           -0.151559       0.028881   \n",
       "incF                    -0.043999            0.209205       0.014515   \n",
       "decL                     0.011212            0.341701       0.101245   \n",
       "incL                     0.030630           -0.256623      -0.041202   \n",
       "\n",
       "                    nrLoadgenerators_4  nrFrontends_5  nrLoadgenerators_5  \\\n",
       "nrLoadgenerators              0.212965       0.417337            0.137588   \n",
       "nrFrontends                   0.592326       0.710455            0.475865   \n",
       "nrFrontends_1                 0.279499       0.463352            0.211983   \n",
       "nrLoadgenerators_1            0.702004       0.733493            0.591951   \n",
       "nrFrontends_2                 0.357117       0.560687            0.278634   \n",
       "nrLoadgenerators_2            0.809682       0.729760            0.701877   \n",
       "nrFrontends_3                 0.449721       0.651617            0.356391   \n",
       "nrLoadgenerators_3            0.908059       0.716254            0.809532   \n",
       "nrFrontends_4                 0.541906       0.732798            0.449119   \n",
       "nrLoadgenerators_4            1.000000       0.641277            0.907993   \n",
       "nrFrontends_5                 0.641277       1.000000            0.541471   \n",
       "nrLoadgenerators_5            0.907993       0.541471            1.000000   \n",
       "frontendChange                0.166667       0.026838            0.164238   \n",
       "loadChange                   -0.304906      -0.097255           -0.312913   \n",
       "decF                         -0.157376      -0.063760           -0.139330   \n",
       "incF                          0.185904       0.102337            0.161666   \n",
       "decL                          0.328883       0.142628            0.312478   \n",
       "incL                         -0.243753      -0.080017           -0.256102   \n",
       "\n",
       "                    frontendChange  loadChange      decF      incF      decL  \\\n",
       "nrLoadgenerators         -0.485796    0.721674  0.381383 -0.204064 -0.385182   \n",
       "nrFrontends               0.004276   -0.084133 -0.045228  0.231614  0.254632   \n",
       "nrFrontends_1            -0.725475    0.382206  0.607200 -0.354677 -0.163571   \n",
       "nrLoadgenerators_1        0.070555   -0.241248 -0.091378  0.241328  0.364192   \n",
       "nrFrontends_2            -0.334786    0.227824  0.239424 -0.116630 -0.058265   \n",
       "nrLoadgenerators_2        0.110888   -0.282916 -0.118028  0.227773  0.358550   \n",
       "nrFrontends_3            -0.210888    0.077341  0.121493 -0.043999  0.011212   \n",
       "nrLoadgenerators_3        0.149417   -0.303607 -0.151559  0.209205  0.341701   \n",
       "nrFrontends_4            -0.094638   -0.036107  0.028881  0.014515  0.101245   \n",
       "nrLoadgenerators_4        0.166667   -0.304906 -0.157376  0.185904  0.328883   \n",
       "nrFrontends_5             0.026838   -0.097255 -0.063760  0.102337  0.142628   \n",
       "nrLoadgenerators_5        0.164238   -0.312913 -0.139330  0.161666  0.312478   \n",
       "frontendChange            1.000000   -0.602795 -0.898734  0.593096  0.426149   \n",
       "loadChange               -0.602795    1.000000  0.496917 -0.401503 -0.686112   \n",
       "decF                     -0.898734    0.496917  1.000000 -0.403785 -0.349018   \n",
       "incF                      0.593096   -0.401503 -0.403785  1.000000  0.466075   \n",
       "decL                      0.426149   -0.686112 -0.349018  0.466075  1.000000   \n",
       "incL                     -0.497068    0.889954  0.440196 -0.330223 -0.484049   \n",
       "\n",
       "                        incL  \n",
       "nrLoadgenerators    0.619740  \n",
       "nrFrontends        -0.084706  \n",
       "nrFrontends_1       0.298652  \n",
       "nrLoadgenerators_1 -0.204705  \n",
       "nrFrontends_2       0.161705  \n",
       "nrLoadgenerators_2 -0.244933  \n",
       "nrFrontends_3       0.030630  \n",
       "nrLoadgenerators_3 -0.256623  \n",
       "nrFrontends_4      -0.041202  \n",
       "nrLoadgenerators_4 -0.243753  \n",
       "nrFrontends_5      -0.080017  \n",
       "nrLoadgenerators_5 -0.256102  \n",
       "frontendChange     -0.497068  \n",
       "loadChange          0.889954  \n",
       "decF                0.440196  \n",
       "incF               -0.330223  \n",
       "decL               -0.484049  \n",
       "incL                1.000000  "
      ]
     },
     "execution_count": 172,
     "metadata": {},
     "output_type": "execute_result"
    }
   ],
   "source": [
    "features.corr(method='spearman')"
   ]
  },
  {
   "cell_type": "code",
   "execution_count": 173,
   "metadata": {},
   "outputs": [
    {
     "data": {
      "text/plain": [
       "nrLoadgenerators                int64\n",
       "nrFrontends                     int64\n",
       "nrFrontends_1                 float64\n",
       "nrLoadgenerators_1            float64\n",
       "nrFrontends_2                 float64\n",
       "nrLoadgenerators_2            float64\n",
       "nrFrontends_3                 float64\n",
       "nrLoadgenerators_3            float64\n",
       "nrFrontends_4                 float64\n",
       "nrLoadgenerators_4            float64\n",
       "nrFrontends_5                 float64\n",
       "nrLoadgenerators_5            float64\n",
       "frontendChange                float64\n",
       "loadChange                    float64\n",
       "decF                             bool\n",
       "incF                             bool\n",
       "decL                             bool\n",
       "incL                             bool\n",
       "lastIncF              timedelta64[ns]\n",
       "lastDecF              timedelta64[ns]\n",
       "lastIncL              timedelta64[ns]\n",
       "lastDecL              timedelta64[ns]\n",
       "dtype: object"
      ]
     },
     "execution_count": 173,
     "metadata": {},
     "output_type": "execute_result"
    }
   ],
   "source": [
    "features.dtypes"
   ]
  },
  {
   "cell_type": "markdown",
   "metadata": {},
   "source": [
    "# Model"
   ]
  },
  {
   "cell_type": "code",
   "execution_count": 174,
   "metadata": {},
   "outputs": [],
   "source": [
    "labels = np.array(features['nrFrontends'])\n",
    "\n",
    "\n",
    "\n",
    "#features_ml.tail(10)"
   ]
  },
  {
   "cell_type": "code",
   "execution_count": 175,
   "metadata": {
    "collapsed": true
   },
   "outputs": [],
   "source": [
    "features_ml=features.drop('nrFrontends', axis = 1)\n",
    "features_ml['lastIncF'] = features_ml['lastIncF'].apply(lambda x: x.total_seconds()//60)\n",
    "features_ml['lastDecF'] = features_ml['lastDecF'].apply(lambda x: x.total_seconds()//60)\n",
    "features_ml['lastIncL'] = features_ml['lastIncL'].apply(lambda x: x.total_seconds()//60)\n",
    "features_ml['lastDecL'] = features_ml['lastDecL'].apply(lambda x: x.total_seconds()//60)\n",
    "\n",
    "features_ml.fillna(0, inplace=True)"
   ]
  },
  {
   "cell_type": "code",
   "execution_count": null,
   "metadata": {
    "collapsed": true
   },
   "outputs": [],
   "source": []
  },
  {
   "cell_type": "code",
   "execution_count": 176,
   "metadata": {
    "collapsed": true
   },
   "outputs": [],
   "source": [
    "feature_list = list(features.columns)\n",
    "features_ml = np.array(features_ml)"
   ]
  },
  {
   "cell_type": "code",
   "execution_count": 177,
   "metadata": {
    "collapsed": true
   },
   "outputs": [],
   "source": [
    "#random split 80 20\n",
    "from sklearn.model_selection import train_test_split\n",
    "train_features, test_features, train_labels, test_labels = train_test_split(features_ml, labels, test_size = 0.2, random_state = 42)"
   ]
  },
  {
   "cell_type": "code",
   "execution_count": 178,
   "metadata": {
    "collapsed": true
   },
   "outputs": [],
   "source": [
    "# train test split by weekid"
   ]
  },
  {
   "cell_type": "code",
   "execution_count": 179,
   "metadata": {},
   "outputs": [
    {
     "name": "stdout",
     "output_type": "stream",
     "text": [
      "Training Features Shape: (609, 21)\n",
      "Training Labels Shape: (609,)\n",
      "Testing Features Shape: (153, 21)\n",
      "Testing Labels Shape: (153,)\n"
     ]
    }
   ],
   "source": [
    "print('Training Features Shape:', train_features.shape)\n",
    "print('Training Labels Shape:', train_labels.shape)\n",
    "print('Testing Features Shape:', test_features.shape)\n",
    "print('Testing Labels Shape:', test_labels.shape)"
   ]
  },
  {
   "cell_type": "code",
   "execution_count": 180,
   "metadata": {},
   "outputs": [],
   "source": [
    "# Import the model we are using\n",
    "from sklearn.ensemble import RandomForestRegressor# Instantiate model with 1000 decision trees\n",
    "rf = RandomForestRegressor(n_estimators = 1000, random_state = 42)# Train the model on training data\n",
    "rf.fit(train_features, train_labels);"
   ]
  },
  {
   "cell_type": "code",
   "execution_count": 181,
   "metadata": {},
   "outputs": [
    {
     "name": "stdout",
     "output_type": "stream",
     "text": [
      "Mean Absolute Error: 0.14 ....\n"
     ]
    }
   ],
   "source": [
    "predictions = rf.predict(test_features)\n",
    "\n",
    "errors = abs(predictions - test_labels)\n",
    "print('Mean Absolute Error:', round(np.mean(errors), 2), '....')"
   ]
  },
  {
   "cell_type": "code",
   "execution_count": 182,
   "metadata": {},
   "outputs": [
    {
     "name": "stdout",
     "output_type": "stream",
     "text": [
      "Accuracy: 95.81 %.\n"
     ]
    }
   ],
   "source": [
    "# Calculate mean absolute percentage error (MAPE)\n",
    "mape = 100 * (errors / test_labels)# Calculate and display accuracy\n",
    "accuracy = 100 - np.mean(mape)\n",
    "print('Accuracy:', round(accuracy, 2), '%.')"
   ]
  },
  {
   "cell_type": "code",
   "execution_count": 146,
   "metadata": {},
   "outputs": [
    {
     "ename": "ValueError",
     "evalue": "Classification metrics can't handle a mix of multiclass and continuous targets",
     "output_type": "error",
     "traceback": [
      "\u001b[0;31m---------------------------------------------------------------------------\u001b[0m",
      "\u001b[0;31mValueError\u001b[0m                                Traceback (most recent call last)",
      "\u001b[0;32m<ipython-input-146-5b945db66892>\u001b[0m in \u001b[0;36m<module>\u001b[0;34m()\u001b[0m\n\u001b[1;32m      1\u001b[0m \u001b[0;32mfrom\u001b[0m \u001b[0msklearn\u001b[0m\u001b[0;34m.\u001b[0m\u001b[0mmetrics\u001b[0m \u001b[0;32mimport\u001b[0m \u001b[0mconfusion_matrix\u001b[0m\u001b[0;34m\u001b[0m\u001b[0m\n\u001b[0;32m----> 2\u001b[0;31m \u001b[0mconfusion_matrix\u001b[0m\u001b[0;34m(\u001b[0m\u001b[0mtest_labels\u001b[0m\u001b[0;34m,\u001b[0m \u001b[0mpredictions\u001b[0m\u001b[0;34m)\u001b[0m\u001b[0;34m\u001b[0m\u001b[0m\n\u001b[0m",
      "\u001b[0;32m/home/sarah/anaconda2/envs/py36/lib/python3.6/site-packages/sklearn/metrics/classification.py\u001b[0m in \u001b[0;36mconfusion_matrix\u001b[0;34m(y_true, y_pred, labels, sample_weight)\u001b[0m\n\u001b[1;32m    248\u001b[0m \u001b[0;34m\u001b[0m\u001b[0m\n\u001b[1;32m    249\u001b[0m     \"\"\"\n\u001b[0;32m--> 250\u001b[0;31m     \u001b[0my_type\u001b[0m\u001b[0;34m,\u001b[0m \u001b[0my_true\u001b[0m\u001b[0;34m,\u001b[0m \u001b[0my_pred\u001b[0m \u001b[0;34m=\u001b[0m \u001b[0m_check_targets\u001b[0m\u001b[0;34m(\u001b[0m\u001b[0my_true\u001b[0m\u001b[0;34m,\u001b[0m \u001b[0my_pred\u001b[0m\u001b[0;34m)\u001b[0m\u001b[0;34m\u001b[0m\u001b[0m\n\u001b[0m\u001b[1;32m    251\u001b[0m     \u001b[0;32mif\u001b[0m \u001b[0my_type\u001b[0m \u001b[0;32mnot\u001b[0m \u001b[0;32min\u001b[0m \u001b[0;34m(\u001b[0m\u001b[0;34m\"binary\"\u001b[0m\u001b[0;34m,\u001b[0m \u001b[0;34m\"multiclass\"\u001b[0m\u001b[0;34m)\u001b[0m\u001b[0;34m:\u001b[0m\u001b[0;34m\u001b[0m\u001b[0m\n\u001b[1;32m    252\u001b[0m         \u001b[0;32mraise\u001b[0m \u001b[0mValueError\u001b[0m\u001b[0;34m(\u001b[0m\u001b[0;34m\"%s is not supported\"\u001b[0m \u001b[0;34m%\u001b[0m \u001b[0my_type\u001b[0m\u001b[0;34m)\u001b[0m\u001b[0;34m\u001b[0m\u001b[0m\n",
      "\u001b[0;32m/home/sarah/anaconda2/envs/py36/lib/python3.6/site-packages/sklearn/metrics/classification.py\u001b[0m in \u001b[0;36m_check_targets\u001b[0;34m(y_true, y_pred)\u001b[0m\n\u001b[1;32m     79\u001b[0m     \u001b[0;32mif\u001b[0m \u001b[0mlen\u001b[0m\u001b[0;34m(\u001b[0m\u001b[0my_type\u001b[0m\u001b[0;34m)\u001b[0m \u001b[0;34m>\u001b[0m \u001b[0;36m1\u001b[0m\u001b[0;34m:\u001b[0m\u001b[0;34m\u001b[0m\u001b[0m\n\u001b[1;32m     80\u001b[0m         raise ValueError(\"Classification metrics can't handle a mix of {0} \"\n\u001b[0;32m---> 81\u001b[0;31m                          \"and {1} targets\".format(type_true, type_pred))\n\u001b[0m\u001b[1;32m     82\u001b[0m \u001b[0;34m\u001b[0m\u001b[0m\n\u001b[1;32m     83\u001b[0m     \u001b[0;31m# We can't have more than one value on y_type => The set is no more needed\u001b[0m\u001b[0;34m\u001b[0m\u001b[0;34m\u001b[0m\u001b[0m\n",
      "\u001b[0;31mValueError\u001b[0m: Classification metrics can't handle a mix of multiclass and continuous targets"
     ]
    }
   ],
   "source": [
    "from sklearn.metrics import confusion_matrix\n",
    "confusion_matrix(test_labels, predictions)"
   ]
  },
  {
   "cell_type": "code",
   "execution_count": null,
   "metadata": {
    "collapsed": true
   },
   "outputs": [],
   "source": [
    "# multi class"
   ]
  },
  {
   "cell_type": "code",
   "execution_count": 204,
   "metadata": {},
   "outputs": [],
   "source": [
    "factor = pd.factorize(features['nrFrontends'])\n",
    "labels_cat = factor[0]\n"
   ]
  },
  {
   "cell_type": "code",
   "execution_count": 211,
   "metadata": {
    "collapsed": true
   },
   "outputs": [],
   "source": [
    "X_train, X_test, y_train, y_test = train_test_split(features_ml, labels_cat, test_size = 0.2, random_state = 42)"
   ]
  },
  {
   "cell_type": "code",
   "execution_count": 212,
   "metadata": {},
   "outputs": [
    {
     "name": "stdout",
     "output_type": "stream",
     "text": [
      "Training Features Shape: (609, 21)\n",
      "Training Labels Shape: (609,)\n",
      "Testing Features Shape: (153, 21)\n",
      "Testing Labels Shape: (153,)\n"
     ]
    }
   ],
   "source": [
    "print('Training Features Shape:', X_train.shape)\n",
    "print('Training Labels Shape:', y_train.shape)\n",
    "print('Testing Features Shape:', X_test.shape)\n",
    "print('Testing Labels Shape:', y_test.shape)"
   ]
  },
  {
   "cell_type": "code",
   "execution_count": 213,
   "metadata": {},
   "outputs": [],
   "source": [
    "#from sklearn.preprocessing import StandardScaler\n",
    "#scaler = StandardScaler()\n",
    "#X_train = scaler.fit_transform(X_train)\n",
    "#X_test = scaler.transform(X_test)\n",
    "#X_train"
   ]
  },
  {
   "cell_type": "code",
   "execution_count": 214,
   "metadata": {
    "collapsed": true
   },
   "outputs": [],
   "source": [
    "from sklearn.ensemble import RandomForestClassifier\n",
    "from sklearn.metrics import confusion_matrix\n",
    "from sklearn.externals import joblib"
   ]
  },
  {
   "cell_type": "code",
   "execution_count": 215,
   "metadata": {},
   "outputs": [
    {
     "data": {
      "text/plain": [
       "RandomForestClassifier(bootstrap=True, class_weight=None, criterion='entropy',\n",
       "            max_depth=None, max_features='auto', max_leaf_nodes=None,\n",
       "            min_impurity_decrease=0.0, min_impurity_split=None,\n",
       "            min_samples_leaf=1, min_samples_split=2,\n",
       "            min_weight_fraction_leaf=0.0, n_estimators=1000, n_jobs=1,\n",
       "            oob_score=False, random_state=42, verbose=0, warm_start=False)"
      ]
     },
     "execution_count": 215,
     "metadata": {},
     "output_type": "execute_result"
    }
   ],
   "source": [
    "classifier = RandomForestClassifier(n_estimators = 1000, criterion = 'entropy', random_state = 42)\n",
    "classifier.fit(X_train, y_train)"
   ]
  },
  {
   "cell_type": "code",
   "execution_count": 216,
   "metadata": {},
   "outputs": [
    {
     "data": {
      "text/plain": [
       "array([[ 1,  0,  0,  0,  0,  0],\n",
       "       [ 0,  8,  1,  0,  0,  0],\n",
       "       [ 0,  1, 63,  1,  2,  0],\n",
       "       [ 0,  0,  0,  3,  0,  1],\n",
       "       [ 0,  0,  3,  0, 30,  2],\n",
       "       [ 0,  0,  0,  0,  5, 32]])"
      ]
     },
     "execution_count": 216,
     "metadata": {},
     "output_type": "execute_result"
    }
   ],
   "source": [
    "#from sklearn.metrics import confusion_matrix\n",
    "#tconfusion_matrix(y_test, classifier.predict(X_test))"
   ]
  },
  {
   "cell_type": "code",
   "execution_count": 217,
   "metadata": {},
   "outputs": [
    {
     "name": "stdout",
     "output_type": "stream",
     "text": [
      "Predicted Frontends  1  2   3   4   5  6\n",
      "Actual Frontends                        \n",
      "1                    1  0   0   0   0  0\n",
      "2                    0  8   1   0   0  0\n",
      "3                    0  1  63   2   0  1\n",
      "4                    0  0   3  30   2  0\n",
      "5                    0  0   0   5  32  0\n",
      "6                    0  0   0   0   1  3\n"
     ]
    }
   ],
   "source": [
    "# Predicting the Test set results\n",
    "y_pred = classifier.predict(X_test)\n",
    "definitions = factor[1]\n",
    "#Reverse factorize (converting y_pred from 0s,1s and 2s to Iris-setosa, Iris-versicolor and Iris-virginica\n",
    "reversefactor = dict(zip(range(6),definitions))\n",
    "y_test = np.vectorize(reversefactor.get)(y_test)\n",
    "y_pred = np.vectorize(reversefactor.get)(y_pred)\n",
    "# Making the Confusion Matrix\n",
    "print(pd.crosstab(y_test, y_pred, rownames=['Actual Frontends'], colnames=['Predicted Frontends']))\n"
   ]
  },
  {
   "cell_type": "code",
   "execution_count": null,
   "metadata": {
    "collapsed": true
   },
   "outputs": [],
   "source": []
  },
  {
   "cell_type": "markdown",
   "metadata": {},
   "source": [
    "# Evaluation"
   ]
  },
  {
   "cell_type": "code",
   "execution_count": 155,
   "metadata": {
    "collapsed": true
   },
   "outputs": [],
   "source": [
    "features['pred'] = rf.predict(features_ml)"
   ]
  },
  {
   "cell_type": "code",
   "execution_count": 158,
   "metadata": {},
   "outputs": [
    {
     "data": {
      "image/png": "[encoded data removed]",
      "text/plain": [
       "<matplotlib.figure.Figure at 0x7ff1d7353f28>"
      ]
     },
     "metadata": {},
     "output_type": "display_data"
    }
   ],
   "source": [
    "features.plot(y=['pred', 'nrFrontends'], figsize=(10,5), grid=True)\n",
    "plt.show()"
   ]
  },
  {
   "cell_type": "markdown",
   "metadata": {},
   "source": [
    "# Random data"
   ]
  },
  {
   "cell_type": "code",
   "execution_count": null,
   "metadata": {
    "collapsed": true
   },
   "outputs": [],
   "source": []
  },
  {
   "cell_type": "code",
   "execution_count": null,
   "metadata": {
    "collapsed": true
   },
   "outputs": [],
   "source": []
  },
  {
   "cell_type": "code",
   "execution_count": null,
   "metadata": {
    "collapsed": true
   },
   "outputs": [],
   "source": []
  },
  {
   "cell_type": "code",
   "execution_count": null,
   "metadata": {
    "collapsed": true
   },
   "outputs": [],
   "source": []
  },
  {
   "cell_type": "code",
   "execution_count": null,
   "metadata": {
    "collapsed": true
   },
   "outputs": [],
   "source": []
  }
 ],
 "metadata": {
  "kernelspec": {
   "display_name": "Python 3",
   "language": "python",
   "name": "python3"
  },
  "language_info": {
   "codemirror_mode": {
    "name": "ipython",
    "version": 3
   },
   "file_extension": ".py",
   "mimetype": "text/x-python",
   "name": "python",
   "nbconvert_exporter": "python",
   "pygments_lexer": "ipython3",
   "version": "3.6.1"
  }
 },
 "nbformat": 4,
 "nbformat_minor": 4
}
